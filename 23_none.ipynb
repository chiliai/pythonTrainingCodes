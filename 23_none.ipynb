{
 "cells": [
  {
   "cell_type": "code",
   "execution_count": 1,
   "id": "9e4c1f8c-3b63-489d-8a25-bca6b697e265",
   "metadata": {},
   "outputs": [],
   "source": [
    "lst = [1,2,3]"
   ]
  },
  {
   "cell_type": "code",
   "execution_count": 2,
   "id": "50724395-3962-48cd-b37f-7aa52681de95",
   "metadata": {},
   "outputs": [],
   "source": [
    "rv_lst = lst.remove(3)"
   ]
  },
  {
   "cell_type": "code",
   "execution_count": 4,
   "id": "2ef16411-ef0c-4ac7-b619-ef5598104aab",
   "metadata": {},
   "outputs": [
    {
     "name": "stdout",
     "output_type": "stream",
     "text": [
      "None\n"
     ]
    }
   ],
   "source": [
    "print(rv_lst)"
   ]
  },
  {
   "cell_type": "code",
   "execution_count": 5,
   "id": "1c9ca32b-238b-4551-bbc5-d1ca5fd22df2",
   "metadata": {},
   "outputs": [
    {
     "name": "stdout",
     "output_type": "stream",
     "text": [
      "<class 'NoneType'>\n"
     ]
    }
   ],
   "source": [
    "print(type(rv_lst))"
   ]
  },
  {
   "cell_type": "code",
   "execution_count": 7,
   "id": "80290eca-4085-4a2b-93ac-470fd456c31a",
   "metadata": {},
   "outputs": [
    {
     "data": {
      "text/plain": [
       "2"
      ]
     },
     "execution_count": 7,
     "metadata": {},
     "output_type": "execute_result"
    }
   ],
   "source": [
    "pp_lst = lst.pop(1)\n",
    "pp_lst"
   ]
  },
  {
   "cell_type": "code",
   "execution_count": 11,
   "id": "c1f6293e-1ea2-473c-b46d-629b7cbc337a",
   "metadata": {},
   "outputs": [
    {
     "name": "stdout",
     "output_type": "stream",
     "text": [
      "Nothing to show you\n"
     ]
    }
   ],
   "source": [
    "if rv_lst == None:\n",
    "    print(\"Nothing to show you\")\n",
    "else:\n",
    "    print(\"ok\")"
   ]
  },
  {
   "cell_type": "markdown",
   "id": "7876bd61-faff-41ff-b71c-5069c316f473",
   "metadata": {},
   "source": []
  }
 ],
 "metadata": {
  "kernelspec": {
   "display_name": "Python 3 (ipykernel)",
   "language": "python",
   "name": "python3"
  },
  "language_info": {
   "codemirror_mode": {
    "name": "ipython",
    "version": 3
   },
   "file_extension": ".py",
   "mimetype": "text/x-python",
   "name": "python",
   "nbconvert_exporter": "python",
   "pygments_lexer": "ipython3",
   "version": "3.11.5"
  }
 },
 "nbformat": 4,
 "nbformat_minor": 5
}
