{
 "cells": [
  {
   "cell_type": "code",
   "execution_count": 1,
   "id": "419b11f4-3bce-435b-99a7-16b856974603",
   "metadata": {},
   "outputs": [],
   "source": [
    "list_1 = [1, 2, 3, 4, 5, 6, 7]\n",
    "list_2 = [\"test\", 8, 9, 10, \"yogurt\", 11]"
   ]
  },
  {
   "cell_type": "code",
   "execution_count": 2,
   "id": "3bd5113f-108c-47f8-b024-92cb53317fbf",
   "metadata": {},
   "outputs": [
    {
     "data": {
      "text/plain": [
       "[3, 4, 5]"
      ]
     },
     "execution_count": 2,
     "metadata": {},
     "output_type": "execute_result"
    }
   ],
   "source": [
    "list_1[2:5]"
   ]
  },
  {
   "cell_type": "code",
   "execution_count": 3,
   "id": "910a508f-09e4-4c13-833d-23291e2ff5c0",
   "metadata": {},
   "outputs": [
    {
     "data": {
      "text/plain": [
       "[1, 2, 3, 4, 5]"
      ]
     },
     "execution_count": 3,
     "metadata": {},
     "output_type": "execute_result"
    }
   ],
   "source": [
    "list_1[:5]"
   ]
  },
  {
   "cell_type": "code",
   "execution_count": 4,
   "id": "f44ab12a-6375-4685-8e99-b35e402694ed",
   "metadata": {},
   "outputs": [
    {
     "data": {
      "text/plain": [
       "[7]"
      ]
     },
     "execution_count": 4,
     "metadata": {},
     "output_type": "execute_result"
    }
   ],
   "source": [
    "list_1[-1:]"
   ]
  },
  {
   "cell_type": "code",
   "execution_count": 5,
   "id": "c60f64b0-d25d-495a-a5e8-359b20c0bbbb",
   "metadata": {},
   "outputs": [
    {
     "data": {
      "text/plain": [
       "[1, 2, 3, 4, 5, 6]"
      ]
     },
     "execution_count": 5,
     "metadata": {},
     "output_type": "execute_result"
    }
   ],
   "source": [
    "list_1[:-1]"
   ]
  },
  {
   "cell_type": "code",
   "execution_count": 6,
   "id": "cc7c05fd-33e5-415c-bd07-502d53a4f7bc",
   "metadata": {},
   "outputs": [
    {
     "data": {
      "text/plain": [
       "[1, 2, 3, 4, 5, 6, 7, 'test', 8, 9, 10, 'yogurt', 11]"
      ]
     },
     "execution_count": 6,
     "metadata": {},
     "output_type": "execute_result"
    }
   ],
   "source": [
    "list_3 = list_1 + list_2 # jion two lists with each other\n",
    "list_3 "
   ]
  },
  {
   "cell_type": "code",
   "execution_count": 7,
   "id": "70811369-9b0a-4411-a21b-842fe4317650",
   "metadata": {},
   "outputs": [
    {
     "data": {
      "text/plain": [
       "[1, 2, 3, 4, 5, 6, 7]"
      ]
     },
     "execution_count": 7,
     "metadata": {},
     "output_type": "execute_result"
    }
   ],
   "source": [
    "list_1"
   ]
  },
  {
   "cell_type": "code",
   "execution_count": 8,
   "id": "4f847ac7-b974-4c26-8ced-9ae66cf72a83",
   "metadata": {},
   "outputs": [
    {
     "data": {
      "text/plain": [
       "[50, 60, 70, 4, 5, 6, 7]"
      ]
     },
     "execution_count": 8,
     "metadata": {},
     "output_type": "execute_result"
    }
   ],
   "source": [
    "list_1[:3] = [50, 60, 70]\n",
    "list_1"
   ]
  },
  {
   "cell_type": "code",
   "execution_count": 9,
   "id": "a8731d47-a463-45b6-976f-a58e9e332ff6",
   "metadata": {},
   "outputs": [
    {
     "data": {
      "text/plain": [
       "[50, 60, 70, 80, 4, 5, 6, 7]"
      ]
     },
     "execution_count": 9,
     "metadata": {},
     "output_type": "execute_result"
    }
   ],
   "source": [
    "list_1.insert(3, 80)\n",
    "list_1"
   ]
  },
  {
   "cell_type": "code",
   "execution_count": 12,
   "id": "37b9366d-325c-4c1a-b534-bb532b7a2b9f",
   "metadata": {},
   "outputs": [
    {
     "data": {
      "text/plain": [
       "[50,\n",
       " 60,\n",
       " 70,\n",
       " 80,\n",
       " 4,\n",
       " 5,\n",
       " 6,\n",
       " 7,\n",
       " 'test',\n",
       " 8,\n",
       " 9,\n",
       " 10,\n",
       " 'yogurt',\n",
       " 11,\n",
       " 'test',\n",
       " 8,\n",
       " 9,\n",
       " 10,\n",
       " 'yogurt',\n",
       " 11]"
      ]
     },
     "execution_count": 12,
     "metadata": {},
     "output_type": "execute_result"
    }
   ],
   "source": [
    "list_1.extend(list_2) # join two lists each other\n",
    "list_1"
   ]
  },
  {
   "cell_type": "code",
   "execution_count": 14,
   "id": "f909500c-0b87-4920-8930-2dc4ba2914a6",
   "metadata": {},
   "outputs": [],
   "source": [
    "list_1 = []"
   ]
  },
  {
   "cell_type": "code",
   "execution_count": 16,
   "id": "72901ef7-fe13-44e2-813b-503033d6892a",
   "metadata": {},
   "outputs": [],
   "source": [
    "list_1 = [1, 2, 3, 4, 5, 6, 7]"
   ]
  },
  {
   "cell_type": "code",
   "execution_count": 17,
   "id": "80fb0e2c-ba95-4cf3-8376-2be7b11d97c7",
   "metadata": {},
   "outputs": [
    {
     "data": {
      "text/plain": [
       "[1, 2, 4, 5, 6, 7]"
      ]
     },
     "execution_count": 17,
     "metadata": {},
     "output_type": "execute_result"
    }
   ],
   "source": [
    "list_1.remove(3) # remove data via value\n",
    "list_1"
   ]
  },
  {
   "cell_type": "code",
   "execution_count": 18,
   "id": "3834593c-d4b2-4638-8240-9f4aef474b00",
   "metadata": {},
   "outputs": [
    {
     "data": {
      "text/plain": [
       "[1, 2, 4, 6, 7]"
      ]
     },
     "execution_count": 18,
     "metadata": {},
     "output_type": "execute_result"
    }
   ],
   "source": [
    "list_1.pop(3) # remove data via index\n",
    "list_1"
   ]
  },
  {
   "cell_type": "code",
   "execution_count": 19,
   "id": "cacb00d6-c73a-4e8c-b54f-89d43f8df812",
   "metadata": {},
   "outputs": [
    {
     "data": {
      "text/plain": [
       "[1, 2, 6, 7]"
      ]
     },
     "execution_count": 19,
     "metadata": {},
     "output_type": "execute_result"
    }
   ],
   "source": [
    "del list_1[2]\n",
    "list_1"
   ]
  },
  {
   "cell_type": "code",
   "execution_count": 20,
   "id": "abea8c8e-5810-4743-b074-9818705899df",
   "metadata": {},
   "outputs": [
    {
     "data": {
      "text/plain": [
       "1"
      ]
     },
     "execution_count": 20,
     "metadata": {},
     "output_type": "execute_result"
    }
   ],
   "source": [
    "list_1.count(6)"
   ]
  },
  {
   "cell_type": "code",
   "execution_count": 21,
   "id": "777c127d-ee19-4b21-91c3-44ec806d2dad",
   "metadata": {},
   "outputs": [],
   "source": [
    "list_1.append(6)"
   ]
  },
  {
   "cell_type": "code",
   "execution_count": 22,
   "id": "53afd620-2af8-4080-9ff4-2ee9cdcd6d65",
   "metadata": {},
   "outputs": [
    {
     "data": {
      "text/plain": [
       "2"
      ]
     },
     "execution_count": 22,
     "metadata": {},
     "output_type": "execute_result"
    }
   ],
   "source": [
    "list_1.count(6)"
   ]
  },
  {
   "cell_type": "code",
   "execution_count": 27,
   "id": "7053268a-7035-4caf-b65c-9a433de2b4a9",
   "metadata": {},
   "outputs": [
    {
     "data": {
      "text/plain": [
       "5"
      ]
     },
     "execution_count": 27,
     "metadata": {},
     "output_type": "execute_result"
    }
   ],
   "source": [
    "res_length = len(list_1)\n",
    "res_length"
   ]
  },
  {
   "cell_type": "code",
   "execution_count": 29,
   "id": "7ac97f62-bc3c-496c-9cc0-0cf431cf4b8d",
   "metadata": {},
   "outputs": [
    {
     "data": {
      "text/plain": [
       "[2, 6, 14, 16, 38, 43, 75, 89]"
      ]
     },
     "execution_count": 29,
     "metadata": {},
     "output_type": "execute_result"
    }
   ],
   "source": [
    "numbers  = [14, 89, 2, 6, 75, 38, 16, 43]\n",
    "numbers.sort()\n",
    "numbers"
   ]
  },
  {
   "cell_type": "code",
   "execution_count": 30,
   "id": "0c2860ac-8109-4e06-8e5e-dd2f295b2c6f",
   "metadata": {},
   "outputs": [
    {
     "data": {
      "text/plain": [
       "[89, 75, 43, 38, 16, 14, 6, 2]"
      ]
     },
     "execution_count": 30,
     "metadata": {},
     "output_type": "execute_result"
    }
   ],
   "source": [
    "numbers.sort(reverse=True)\n",
    "numbers"
   ]
  },
  {
   "cell_type": "code",
   "execution_count": 31,
   "id": "85e41ab6-06ee-43d6-98ac-577d09f20191",
   "metadata": {},
   "outputs": [
    {
     "data": {
      "text/plain": [
       "[71, 64, 32, 85, 7]"
      ]
     },
     "execution_count": 31,
     "metadata": {},
     "output_type": "execute_result"
    }
   ],
   "source": [
    "new_nums = [7, 85,32,64,71]\n",
    "new_nums.reverse()\n",
    "new_nums"
   ]
  },
  {
   "cell_type": "code",
   "execution_count": 32,
   "id": "6439d794-7114-40ca-9746-476245a252d0",
   "metadata": {},
   "outputs": [],
   "source": [
    "new_nums.clear()"
   ]
  },
  {
   "cell_type": "code",
   "execution_count": null,
   "id": "57d6db4f-6849-4839-9136-cf1734bcbb24",
   "metadata": {},
   "outputs": [],
   "source": []
  }
 ],
 "metadata": {
  "kernelspec": {
   "display_name": "Python 3 (ipykernel)",
   "language": "python",
   "name": "python3"
  },
  "language_info": {
   "codemirror_mode": {
    "name": "ipython",
    "version": 3
   },
   "file_extension": ".py",
   "mimetype": "text/x-python",
   "name": "python",
   "nbconvert_exporter": "python",
   "pygments_lexer": "ipython3",
   "version": "3.11.5"
  }
 },
 "nbformat": 4,
 "nbformat_minor": 5
}
