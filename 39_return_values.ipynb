{
 "cells": [
  {
   "cell_type": "code",
   "execution_count": 9,
   "id": "6c1defde-da68-4ed6-b677-dac704043313",
   "metadata": {},
   "outputs": [
    {
     "name": "stdout",
     "output_type": "stream",
     "text": [
      "(9, 18)\n",
      "9\n",
      "18\n"
     ]
    }
   ],
   "source": [
    "def sum_mul(a,b):\n",
    "    s = a + b\n",
    "    m = a * b\n",
    "    return s,m\n",
    "\n",
    "a = 6\n",
    "b = 3\n",
    "res = sum_mul(a, b)\n",
    "print(res)\n",
    "print(res[0])\n",
    "print(res[1])"
   ]
  },
  {
   "cell_type": "code",
   "execution_count": 37,
   "id": "614df295-e109-44ea-b8ed-2953ed700d04",
   "metadata": {},
   "outputs": [
    {
     "name": "stdout",
     "output_type": "stream",
     "text": [
      "name: jim, family: carrey\n"
     ]
    }
   ],
   "source": [
    "def manual_spiliter(fullname):\n",
    "    if fullname.find(\" \") != -1:\n",
    "        res_01 = fullname.split(\" \")\n",
    "    elif fullname.find(\".\") != -1:\n",
    "        res_01 = fullname.split(\".\")\n",
    "    elif fullname.find(\"_\") != -1:\n",
    "        res_01 = fullname.split(\"_\")\n",
    "    elif fullname.find(\"-\") != -1:\n",
    "        res_01 = fullname.split(\"-\")\n",
    "    else:\n",
    "        return \"your full name is went wrong\"\n",
    "    ############################\n",
    "    if len(res_01) == 2:\n",
    "        name = res_01[0]\n",
    "        family = res_01[1]\n",
    "        print(f\"name: {name}, family: {family}\")\n",
    "    elif len(res_01) == 3:\n",
    "        name = res_01[0]\n",
    "        middle_name = res_01[1]\n",
    "        family = res_01[2]\n",
    "        print(f\"name: {name}, middle_name: {middle_name}, family: {family}\")\n",
    "    else:\n",
    "        print(\"your full name is went wrong\")\n",
    "    \n",
    "fullname = \"jim.carrey\"\n",
    "manual_spiliter(fullname)\n",
    "    "
   ]
  },
  {
   "cell_type": "code",
   "execution_count": null,
   "id": "099348e4-3273-4a1b-af33-a1d04ab7458e",
   "metadata": {},
   "outputs": [],
   "source": []
  }
 ],
 "metadata": {
  "kernelspec": {
   "display_name": "Python 3 (ipykernel)",
   "language": "python",
   "name": "python3"
  },
  "language_info": {
   "codemirror_mode": {
    "name": "ipython",
    "version": 3
   },
   "file_extension": ".py",
   "mimetype": "text/x-python",
   "name": "python",
   "nbconvert_exporter": "python",
   "pygments_lexer": "ipython3",
   "version": "3.12.4"
  }
 },
 "nbformat": 4,
 "nbformat_minor": 5
}
