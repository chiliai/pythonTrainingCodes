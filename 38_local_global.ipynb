{
 "cells": [
  {
   "cell_type": "code",
   "execution_count": 4,
   "id": "74bbf5fd-d158-4eaa-8ac2-6bc3f26cd786",
   "metadata": {},
   "outputs": [
    {
     "name": "stdout",
     "output_type": "stream",
     "text": [
      "5\n"
     ]
    }
   ],
   "source": [
    "num = 5\n",
    "def show_number():\n",
    "    return num\n",
    "\n",
    "print(show_number())"
   ]
  },
  {
   "cell_type": "code",
   "execution_count": 15,
   "id": "bf2ce805-e883-4237-b1c0-70f248e35ded",
   "metadata": {},
   "outputs": [
    {
     "name": "stdout",
     "output_type": "stream",
     "text": [
      "5\n",
      "10\n"
     ]
    }
   ],
   "source": [
    "num_02 = 5 # global scope\n",
    "def show_number_02():\n",
    "    num_02 = 10 # local scope\n",
    "    return num_02\n",
    "\n",
    "print(num_02)\n",
    "print(show_number_02())"
   ]
  },
  {
   "cell_type": "code",
   "execution_count": 16,
   "id": "9d1d1c76-df45-4a86-a706-1fd976c667d0",
   "metadata": {},
   "outputs": [
    {
     "name": "stdout",
     "output_type": "stream",
     "text": [
      "31\n",
      "31\n"
     ]
    }
   ],
   "source": [
    "num_03 = 31\n",
    "def show_number_03():\n",
    "    global num_03\n",
    "    return num_03\n",
    "\n",
    "print(num_03)\n",
    "print(show_number_03())"
   ]
  },
  {
   "cell_type": "code",
   "execution_count": 19,
   "id": "aae27c16-9430-45be-aecd-72e80b1d4b15",
   "metadata": {},
   "outputs": [
    {
     "ename": "UnboundLocalError",
     "evalue": "cannot access local variable 'num_04' where it is not associated with a value",
     "output_type": "error",
     "traceback": [
      "\u001b[1;31m------------------------------------------------------------------------\u001b[0m",
      "\u001b[1;31mUnboundLocalError\u001b[0m                      Traceback (most recent call last)",
      "Cell \u001b[1;32mIn[19], line 8\u001b[0m\n\u001b[0;32m      5\u001b[0m     num_04 \u001b[38;5;241m=\u001b[39m \u001b[38;5;241m48\u001b[39m\n\u001b[0;32m      6\u001b[0m     \u001b[38;5;28mprint\u001b[39m(num_04)\n\u001b[1;32m----> 8\u001b[0m \u001b[43mshow_number_04\u001b[49m\u001b[43m(\u001b[49m\u001b[43m)\u001b[49m\n",
      "Cell \u001b[1;32mIn[19], line 4\u001b[0m, in \u001b[0;36mshow_number_04\u001b[1;34m()\u001b[0m\n\u001b[0;32m      3\u001b[0m \u001b[38;5;28;01mdef\u001b[39;00m \u001b[38;5;21mshow_number_04\u001b[39m():\n\u001b[1;32m----> 4\u001b[0m     \u001b[38;5;28mprint\u001b[39m(\u001b[43mnum_04\u001b[49m)\n\u001b[0;32m      5\u001b[0m     num_04 \u001b[38;5;241m=\u001b[39m \u001b[38;5;241m48\u001b[39m\n\u001b[0;32m      6\u001b[0m     \u001b[38;5;28mprint\u001b[39m(num_04)\n",
      "\u001b[1;31mUnboundLocalError\u001b[0m: cannot access local variable 'num_04' where it is not associated with a value"
     ]
    }
   ],
   "source": [
    "num_04 = 6\n",
    "\n",
    "def show_number_04():\n",
    "    print(num_04)\n",
    "    num_04 = 48\n",
    "    print(num_04)\n",
    "\n",
    "show_number_04()"
   ]
  },
  {
   "cell_type": "code",
   "execution_count": 24,
   "id": "73607669-3d0c-4a96-8288-d452ea3467a0",
   "metadata": {},
   "outputs": [
    {
     "name": "stdout",
     "output_type": "stream",
     "text": [
      "hiya\n"
     ]
    }
   ],
   "source": [
    "text = \"hello\"\n",
    "\n",
    "def parent_function():\n",
    "    text = \"hiya\"\n",
    "    def show_text():\n",
    "        return text\n",
    "    return show_text()\n",
    "\n",
    "print(parent_function())\n",
    "\n",
    "\n"
   ]
  },
  {
   "cell_type": "code",
   "execution_count": 31,
   "id": "f67447a9-0f70-4dac-8c07-a8ad6fa24b1a",
   "metadata": {},
   "outputs": [
    {
     "name": "stdout",
     "output_type": "stream",
     "text": [
      "inside of show_text function: hey there\n",
      "Outside of function: hiya\n",
      "result call parent function:  None\n"
     ]
    }
   ],
   "source": [
    "text_02 = \"hello\"\n",
    "\n",
    "def parent_function_02():\n",
    "    text_02 = \"hiya\"\n",
    "    \n",
    "    def show_text_02():\n",
    "        #nonlocal text_02\n",
    "        text_02 = \"hey there\"\n",
    "        print(f\"inside of show_text function: {text_02}\")\n",
    "    show_text_02()\n",
    "    print(f\"Outside of function: {text_02}\")\n",
    "\n",
    "print(\"result call parent function: \" , parent_function_02())"
   ]
  },
  {
   "cell_type": "code",
   "execution_count": null,
   "id": "c5459021-0450-48a5-92f6-ddb0c75f80a1",
   "metadata": {},
   "outputs": [],
   "source": []
  }
 ],
 "metadata": {
  "kernelspec": {
   "display_name": "Python 3 (ipykernel)",
   "language": "python",
   "name": "python3"
  },
  "language_info": {
   "codemirror_mode": {
    "name": "ipython",
    "version": 3
   },
   "file_extension": ".py",
   "mimetype": "text/x-python",
   "name": "python",
   "nbconvert_exporter": "python",
   "pygments_lexer": "ipython3",
   "version": "3.12.4"
  }
 },
 "nbformat": 4,
 "nbformat_minor": 5
}
