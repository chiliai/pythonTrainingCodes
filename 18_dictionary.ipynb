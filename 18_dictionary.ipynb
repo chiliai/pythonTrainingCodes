{
 "cells": [
  {
   "cell_type": "code",
   "execution_count": 3,
   "id": "25888258-71b4-42da-bc94-660fefeebd63",
   "metadata": {},
   "outputs": [
    {
     "data": {
      "text/plain": [
       "{}"
      ]
     },
     "execution_count": 3,
     "metadata": {},
     "output_type": "execute_result"
    }
   ],
   "source": [
    "\"\"\"\n",
    "1. curly bracket is a dictionary symbol {}\n",
    "2. dictionary have two main components: \n",
    "    1. key\n",
    "    2. value\n",
    "\"\"\"\n",
    "dict()"
   ]
  },
  {
   "cell_type": "code",
   "execution_count": 6,
   "id": "a55c980d-ad7b-4b6f-a2c8-2d2dcf4a739f",
   "metadata": {},
   "outputs": [
    {
     "data": {
      "text/plain": [
       "{'id': 15, 'full_name': 'more', 'national_id': '138'}"
      ]
     },
     "execution_count": 6,
     "metadata": {},
     "output_type": "execute_result"
    }
   ],
   "source": [
    "data = {\n",
    "    \"id\": 15,\n",
    "    \"full_name\": \"more\",\n",
    "    \"national_id\": \"138\",\n",
    "}\n",
    "data"
   ]
  },
  {
   "cell_type": "code",
   "execution_count": 7,
   "id": "064702fd-9f60-4f2e-82bc-7782c54572d6",
   "metadata": {},
   "outputs": [
    {
     "data": {
      "text/plain": [
       "15"
      ]
     },
     "execution_count": 7,
     "metadata": {},
     "output_type": "execute_result"
    }
   ],
   "source": [
    "data['id']"
   ]
  },
  {
   "cell_type": "code",
   "execution_count": 14,
   "id": "edca5825-e3d9-49fb-b015-20f5a5e52b28",
   "metadata": {},
   "outputs": [
    {
     "data": {
      "text/plain": [
       "{'id': 11, 'full_name': 'two', 'national_id': '196'}"
      ]
     },
     "execution_count": 14,
     "metadata": {},
     "output_type": "execute_result"
    }
   ],
   "source": [
    "users = {\n",
    "    \"0\": {\n",
    "    \"id\": 10,\n",
    "    \"full_name\": \"one\",\n",
    "    \"national_id\": \"138\",\n",
    "    },\n",
    "    \"1\": {\n",
    "    \"id\": 11,\n",
    "    \"full_name\": \"two\",\n",
    "    \"national_id\": \"196\",\n",
    "    },\n",
    "    \"2\": {\n",
    "    \"id\": 12,\n",
    "    \"full_name\": \"three\",\n",
    "    \"national_id\": \"249\",\n",
    "    },\n",
    "}\n",
    "\n",
    "data = users[\"1\"]\n",
    "data"
   ]
  },
  {
   "cell_type": "code",
   "execution_count": 16,
   "id": "db7f5839-9c75-4ca2-9f7f-e839c9c6ed5e",
   "metadata": {},
   "outputs": [
    {
     "data": {
      "text/plain": [
       "{'id': 11, 'full_name': 'two', 'national_id': '196'}"
      ]
     },
     "execution_count": 16,
     "metadata": {},
     "output_type": "execute_result"
    }
   ],
   "source": [
    "info = users.get(\"1\")\n",
    "info"
   ]
  },
  {
   "cell_type": "code",
   "execution_count": 17,
   "id": "6b893cde-8f49-4c1c-9bcf-302909d47c28",
   "metadata": {},
   "outputs": [
    {
     "data": {
      "text/plain": [
       "dict_keys(['0', '1', '2'])"
      ]
     },
     "execution_count": 17,
     "metadata": {},
     "output_type": "execute_result"
    }
   ],
   "source": [
    "users.keys()"
   ]
  },
  {
   "cell_type": "code",
   "execution_count": 18,
   "id": "b8f0186a-9bd4-4d2c-85b2-7cf293e4ff2e",
   "metadata": {},
   "outputs": [
    {
     "data": {
      "text/plain": [
       "dict_values([{'id': 10, 'full_name': 'one', 'national_id': '138'}, {'id': 11, 'full_name': 'two', 'national_id': '196'}, {'id': 12, 'full_name': 'three', 'national_id': '249'}])"
      ]
     },
     "execution_count": 18,
     "metadata": {},
     "output_type": "execute_result"
    }
   ],
   "source": [
    "users.values()"
   ]
  },
  {
   "cell_type": "code",
   "execution_count": 19,
   "id": "f9fb3007-fee7-49ad-8321-1c144713af5f",
   "metadata": {},
   "outputs": [
    {
     "data": {
      "text/plain": [
       "{'0': {'id': 10, 'full_name': 'one', 'national_id': '138'},\n",
       " '1': {'id': 11, 'full_name': 'two', 'national_id': 1425},\n",
       " '2': {'id': 12, 'full_name': 'three', 'national_id': '249'}}"
      ]
     },
     "execution_count": 19,
     "metadata": {},
     "output_type": "execute_result"
    }
   ],
   "source": [
    "users[\"1\"][\"national_id\"] = 1425\n",
    "users"
   ]
  },
  {
   "cell_type": "code",
   "execution_count": 20,
   "id": "3fe5bfab-08f0-4929-b041-b73f593af5bd",
   "metadata": {},
   "outputs": [
    {
     "data": {
      "text/plain": [
       "{'0': {'id': 65},\n",
       " '1': {'id': 11, 'full_name': 'two', 'national_id': 1425},\n",
       " '2': {'id': 12, 'full_name': 'three', 'national_id': '249'}}"
      ]
     },
     "execution_count": 20,
     "metadata": {},
     "output_type": "execute_result"
    }
   ],
   "source": [
    "users.update({'0': {'id': 65}})\n",
    "users"
   ]
  },
  {
   "cell_type": "code",
   "execution_count": 21,
   "id": "179a3cd1-8cd3-4dd9-9cb0-dadca6bb12a6",
   "metadata": {},
   "outputs": [
    {
     "data": {
      "text/plain": [
       "{'0': {'id': 65, 'full_name': 'nothing', 'national_id': 400},\n",
       " '1': {'id': 11, 'full_name': 'two', 'national_id': 1425},\n",
       " '2': {'id': 12, 'full_name': 'three', 'national_id': '249'}}"
      ]
     },
     "execution_count": 21,
     "metadata": {},
     "output_type": "execute_result"
    }
   ],
   "source": [
    "users[\"0\"][\"full_name\"] = \"nothing\"\n",
    "users[\"0\"][\"national_id\"] = 400\n",
    "users"
   ]
  },
  {
   "cell_type": "code",
   "execution_count": 22,
   "id": "8ade1231-e06a-41ed-a674-68372a7068af",
   "metadata": {},
   "outputs": [
    {
     "data": {
      "text/plain": [
       "{'0': {'id': 65, 'full_name': 'nothing', 'national_id': 400, 'age': 36},\n",
       " '1': {'id': 11, 'full_name': 'two', 'national_id': 1425},\n",
       " '2': {'id': 12, 'full_name': 'three', 'national_id': '249'}}"
      ]
     },
     "execution_count": 22,
     "metadata": {},
     "output_type": "execute_result"
    }
   ],
   "source": [
    "users[\"0\"][\"age\"] = 36\n",
    "users"
   ]
  },
  {
   "cell_type": "code",
   "execution_count": 1,
   "id": "ef4c91a3-37f2-41dc-b601-2ba5cd0f248e",
   "metadata": {},
   "outputs": [
    {
     "name": "stdin",
     "output_type": "stream",
     "text": [
      "please enter your name: morteza\n",
      "please enter your family: hosseinzadeh\n",
      "please enter your national id 138\n"
     ]
    }
   ],
   "source": [
    "# get some info from user\n",
    "name  = input(\"please enter your name:\")\n",
    "family = input(\"please enter your family:\")\n",
    "nid = input(\"please enter your national id\")"
   ]
  },
  {
   "cell_type": "code",
   "execution_count": 4,
   "id": "0f75b685-37bf-4b47-9f34-12df3ea616d4",
   "metadata": {},
   "outputs": [
    {
     "data": {
      "text/plain": [
       "{'name': 'morteza', 'family': 'hosseinzadeh', 'national_id': '138'}"
      ]
     },
     "execution_count": 4,
     "metadata": {},
     "output_type": "execute_result"
    }
   ],
   "source": [
    "person = {\n",
    "    \"name\": name,\n",
    "    \"family\": family,\n",
    "    \"national_id\": nid,\n",
    "}\n",
    "person"
   ]
  },
  {
   "cell_type": "code",
   "execution_count": 5,
   "id": "3b8b9e1e-d902-47d9-971e-ec77f4ffa5c4",
   "metadata": {},
   "outputs": [],
   "source": [
    "persons = {}"
   ]
  },
  {
   "cell_type": "code",
   "execution_count": 8,
   "id": "af154fac-7c53-4403-8269-cf5274acc3dc",
   "metadata": {},
   "outputs": [
    {
     "name": "stdin",
     "output_type": "stream",
     "text": [
      "your name: oddd\n",
      "your family: sdffsd\n",
      "your national id 3323\n"
     ]
    },
    {
     "name": "stdout",
     "output_type": "stream",
     "text": [
      "-----------------------------\n"
     ]
    },
    {
     "name": "stdin",
     "output_type": "stream",
     "text": [
      "your name: 13132\n",
      "your family: 123123\n",
      "your national id 3535g\n"
     ]
    },
    {
     "name": "stdout",
     "output_type": "stream",
     "text": [
      "-----------------------------\n",
      "{1: {'name': 'oddd', 'family': 'sdffsd', 'national_id': '3323'}, 2: {'name': '13132', 'family': '123123', 'national_id': '3535g'}}\n"
     ]
    }
   ],
   "source": [
    "i = 1\n",
    "total_counter = 2\n",
    "while i <= total_counter:\n",
    "    name  = input(\"your name:\")\n",
    "    family = input(\"your family:\")\n",
    "    nid = input(\"your national id\")\n",
    "    print(\"-----------------------------\")\n",
    "    persons[i] = {\n",
    "        \"name\": name,\n",
    "        \"family\": family,\n",
    "        \"national_id\": nid,\n",
    "        }\n",
    "    i +=1\n",
    "\n",
    "print(persons)"
   ]
  },
  {
   "cell_type": "code",
   "execution_count": 15,
   "id": "39d41c5b-87f6-4439-bbed-966f0c531cda",
   "metadata": {},
   "outputs": [
    {
     "data": {
      "text/plain": [
       "{1: {'name': 'oddd', 'family': 'sdffsd', 'national_id': '3323'},\n",
       " 2: {'name': '13132', 'family': '123123', 'national_id': '3535g'}}"
      ]
     },
     "execution_count": 15,
     "metadata": {},
     "output_type": "execute_result"
    }
   ],
   "source": [
    "persons"
   ]
  },
  {
   "cell_type": "code",
   "execution_count": 20,
   "id": "3640b021-77ed-4890-96ec-793b3a3363b7",
   "metadata": {},
   "outputs": [
    {
     "name": "stdin",
     "output_type": "stream",
     "text": [
      "your name: test\n",
      "your family: tester\n",
      "your national id 524\n"
     ]
    },
    {
     "name": "stdout",
     "output_type": "stream",
     "text": [
      "-----------------------------\n"
     ]
    },
    {
     "name": "stdin",
     "output_type": "stream",
     "text": [
      "your name: smile\n",
      "your family: smilerrrr\n",
      "your national id 1212\n"
     ]
    },
    {
     "name": "stdout",
     "output_type": "stream",
     "text": [
      "-----------------------------\n"
     ]
    },
    {
     "data": {
      "text/plain": [
       "{1: {'name': 'oddd', 'family': 'sdffsd', 'national_id': '3323'},\n",
       " 2: {'name': '13132', 'family': '123123', 'national_id': '3535g'},\n",
       " 3: {'name': 'test', 'family': 'tester', 'national_id': '524'},\n",
       " 4: {'name': 'smile', 'family': 'smilerrrr', 'national_id': '1212'}}"
      ]
     },
     "execution_count": 20,
     "metadata": {},
     "output_type": "execute_result"
    }
   ],
   "source": [
    "cnt = len(persons.keys())\n",
    "i = cnt + 1\n",
    "total_counter = cnt + 2\n",
    "while i <= total_counter:\n",
    "    name  = input(\"your name:\")\n",
    "    family = input(\"your family:\")\n",
    "    nid = input(\"your national id\")\n",
    "    print(\"-----------------------------\")\n",
    "    persons[i] = {\n",
    "        \"name\": name,\n",
    "        \"family\": family,\n",
    "        \"national_id\": nid,\n",
    "        }\n",
    "    i +=1\n",
    "\n",
    "persons"
   ]
  },
  {
   "cell_type": "code",
   "execution_count": 29,
   "id": "0d0e2d32-d7b7-46ca-9a07-d4db82d4cb8c",
   "metadata": {},
   "outputs": [
    {
     "data": {
      "text/plain": [
       "{1: {'name': 'oddd', 'family': 'sdffsd', 'national_id': '3323'},\n",
       " 4: {'name': 'smile', 'family': 'smilerrrr', 'national_id': '1212'}}"
      ]
     },
     "execution_count": 29,
     "metadata": {},
     "output_type": "execute_result"
    }
   ],
   "source": [
    "# for remove \n",
    "persons.pop(2)\n",
    "persons"
   ]
  },
  {
   "cell_type": "code",
   "execution_count": 30,
   "id": "e84145f8-e5f9-4cb5-b2cb-03b9d5d0fcbb",
   "metadata": {},
   "outputs": [],
   "source": [
    "# for clean all data from dictionary variable\n",
    "persons.clear()"
   ]
  },
  {
   "cell_type": "code",
   "execution_count": 31,
   "id": "bdf2dad9-6f06-4bdd-adcb-58d9b1157998",
   "metadata": {},
   "outputs": [
    {
     "data": {
      "text/plain": [
       "{}"
      ]
     },
     "execution_count": 31,
     "metadata": {},
     "output_type": "execute_result"
    }
   ],
   "source": [
    "persons"
   ]
  },
  {
   "cell_type": "code",
   "execution_count": 33,
   "id": "7c80b70a-361b-41b2-8d13-a6bad229e3f0",
   "metadata": {},
   "outputs": [
    {
     "data": {
      "text/plain": [
       "dict_items([('name', 'morteza'), ('family', 'hosseinzadeh'), ('national_id', '138')])"
      ]
     },
     "execution_count": 33,
     "metadata": {},
     "output_type": "execute_result"
    }
   ],
   "source": [
    "person.items()"
   ]
  },
  {
   "cell_type": "code",
   "execution_count": 36,
   "id": "ef9a3e6d-61f7-4fe5-a9ab-6b499a19af4d",
   "metadata": {},
   "outputs": [
    {
     "data": {
      "text/plain": [
       "dict_items([(1, {'name': 'oddd', 'family': 'sdffsd', 'national_id': '3323'}), (2, {'name': '13132', 'family': '123123', 'national_id': '3535g'}), (3, {'name': 'test', 'family': 'tester', 'national_id': '524'}), (4, {'name': 'smile', 'family': 'smilerrrr', 'national_id': '1212'})])"
      ]
     },
     "execution_count": 36,
     "metadata": {},
     "output_type": "execute_result"
    }
   ],
   "source": [
    "data = {1: {'name': 'oddd', 'family': 'sdffsd', 'national_id': '3323'},\n",
    " 2: {'name': '13132', 'family': '123123', 'national_id': '3535g'},\n",
    " 3: {'name': 'test', 'family': 'tester', 'national_id': '524'},\n",
    " 4: {'name': 'smile', 'family': 'smilerrrr', 'national_id': '1212'}}\n",
    "\n",
    "# data\n",
    "data.items()"
   ]
  },
  {
   "cell_type": "code",
   "execution_count": 37,
   "id": "fbd39719-6f61-417b-9e91-82097baef9cd",
   "metadata": {},
   "outputs": [
    {
     "data": {
      "text/plain": [
       "(4, {'name': 'smile', 'family': 'smilerrrr', 'national_id': '1212'})"
      ]
     },
     "execution_count": 37,
     "metadata": {},
     "output_type": "execute_result"
    }
   ],
   "source": [
    "item = data.popitem()\n",
    "item"
   ]
  },
  {
   "cell_type": "code",
   "execution_count": 38,
   "id": "5af06b38-6b68-4f7b-8d22-0fac09e4a4e3",
   "metadata": {},
   "outputs": [
    {
     "data": {
      "text/plain": [
       "{1: {'name': 'oddd', 'family': 'sdffsd', 'national_id': '3323'},\n",
       " 2: {'name': '13132', 'family': '123123', 'national_id': '3535g'},\n",
       " 3: {'name': 'test', 'family': 'tester', 'national_id': '524'}}"
      ]
     },
     "execution_count": 38,
     "metadata": {},
     "output_type": "execute_result"
    }
   ],
   "source": [
    "data"
   ]
  },
  {
   "cell_type": "code",
   "execution_count": null,
   "id": "ae93a371-7e1f-4d12-9e41-1a8d6334b5b4",
   "metadata": {},
   "outputs": [],
   "source": []
  }
 ],
 "metadata": {
  "kernelspec": {
   "display_name": "Python 3 (ipykernel)",
   "language": "python",
   "name": "python3"
  },
  "language_info": {
   "codemirror_mode": {
    "name": "ipython",
    "version": 3
   },
   "file_extension": ".py",
   "mimetype": "text/x-python",
   "name": "python",
   "nbconvert_exporter": "python",
   "pygments_lexer": "ipython3",
   "version": "3.11.5"
  }
 },
 "nbformat": 4,
 "nbformat_minor": 5
}
