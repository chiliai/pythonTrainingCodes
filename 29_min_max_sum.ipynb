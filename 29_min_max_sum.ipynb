{
 "cells": [
  {
   "cell_type": "code",
   "execution_count": 7,
   "id": "050da617-5c88-4596-855b-6d497a9a7a0d",
   "metadata": {},
   "outputs": [],
   "source": [
    "# min = minimum\n",
    "# max = maximum\n",
    "# sum = summation"
   ]
  },
  {
   "cell_type": "code",
   "execution_count": 1,
   "id": "aeddfae3-dd55-41d4-aed5-c5ffe22291d9",
   "metadata": {},
   "outputs": [],
   "source": [
    "lst = [20,15,14,18,16]\n",
    "tpl = (20,15,14,18,16)\n",
    "dict =  { \"more\": \n",
    "            {\n",
    "                \"math\": 19,\n",
    "                \"probability\": 19.75,\n",
    "                \"programing\": 20,\n",
    "            }\n",
    "        }"
   ]
  },
  {
   "cell_type": "code",
   "execution_count": 6,
   "id": "61e1f07f-9c17-4154-aa41-c90e541862a4",
   "metadata": {},
   "outputs": [
    {
     "name": "stdout",
     "output_type": "stream",
     "text": [
      "list min is 14\n",
      "list max is 20\n",
      "list sum is 83\n"
     ]
    }
   ],
   "source": [
    "# min and max\n",
    "res_min = min(lst)\n",
    "res_max = max(lst)\n",
    "res_sum = sum(lst)\n",
    "\n",
    "print(\"list min is {}\".format(res_min))\n",
    "print(\"list max is {}\".format(res_max))\n",
    "print(\"list sum is {}\".format(res_sum))"
   ]
  },
  {
   "cell_type": "code",
   "execution_count": 8,
   "id": "1d635af0-d345-4820-a274-3d6f073776ba",
   "metadata": {},
   "outputs": [],
   "source": [
    "lst_01 = [10, 15, 20]\n",
    "lst_02 = [8, 15, 30, 15]"
   ]
  },
  {
   "cell_type": "code",
   "execution_count": 11,
   "id": "43fef8e8-5464-4263-b596-14d9d17206e3",
   "metadata": {},
   "outputs": [
    {
     "data": {
      "text/plain": [
       "[8, 15, 30, 15]"
      ]
     },
     "execution_count": 11,
     "metadata": {},
     "output_type": "execute_result"
    }
   ],
   "source": [
    "# Checks values ​​peer-to-peer\n",
    "min(lst_01, lst_02)"
   ]
  },
  {
   "cell_type": "code",
   "execution_count": 12,
   "id": "52544b89-142e-4fa5-a6f4-7d8d02efca07",
   "metadata": {},
   "outputs": [
    {
     "data": {
      "text/plain": [
       "[10, 15, 20]"
      ]
     },
     "execution_count": 12,
     "metadata": {},
     "output_type": "execute_result"
    }
   ],
   "source": [
    "# Checks values ​​peer-to-peer\n",
    "max(lst_01, lst_02)"
   ]
  },
  {
   "cell_type": "code",
   "execution_count": 13,
   "id": "e300fb95-7a87-4053-a829-47afe7db3a23",
   "metadata": {},
   "outputs": [
    {
     "data": {
      "text/plain": [
       "1"
      ]
     },
     "execution_count": 13,
     "metadata": {},
     "output_type": "execute_result"
    }
   ],
   "source": [
    "sum([], start = 1)"
   ]
  },
  {
   "cell_type": "code",
   "execution_count": 15,
   "id": "2fb6ca32-16fc-4e07-a1dd-431c4999e23f",
   "metadata": {},
   "outputs": [
    {
     "name": "stdout",
     "output_type": "stream",
     "text": [
      "sum list with OUT start is 83\n",
      "sum list with in start is 95\n"
     ]
    }
   ],
   "source": [
    "print(\"sum list with OUT start is {}\".format(sum(lst)))\n",
    "print(\"sum list with in start is {}\".format(sum(lst, start = 12)))"
   ]
  },
  {
   "cell_type": "code",
   "execution_count": 18,
   "id": "64e7b6bc-50d2-4376-b672-16dc189c91da",
   "metadata": {},
   "outputs": [],
   "source": [
    "students =  {\"more\": \n",
    "            {\n",
    "                \"math\": 19,\n",
    "                \"probability\": 19.75,\n",
    "                \"programing\": 20,\n",
    "            },\n",
    "         \"abi\": \n",
    "            {\n",
    "                \"math\": 16,\n",
    "                \"probability\": 14,\n",
    "                \"programing\": 12,\n",
    "            }\n",
    "        }"
   ]
  },
  {
   "cell_type": "code",
   "execution_count": 21,
   "id": "802569d5-0bdc-47f6-bb87-8a98aa225394",
   "metadata": {},
   "outputs": [
    {
     "data": {
      "text/plain": [
       "dict_keys(['math', 'probability', 'programing'])"
      ]
     },
     "execution_count": 21,
     "metadata": {},
     "output_type": "execute_result"
    }
   ],
   "source": [
    "stu_keys = students[\"more\"].keys()\n",
    "stu_keys"
   ]
  },
  {
   "cell_type": "code",
   "execution_count": 24,
   "id": "58874794-023f-4a00-86dc-4786a9f9cf9f",
   "metadata": {},
   "outputs": [
    {
     "data": {
      "text/plain": [
       "3"
      ]
     },
     "execution_count": 24,
     "metadata": {},
     "output_type": "execute_result"
    }
   ],
   "source": [
    "number_courses = len(stu_keys)\n",
    "number_courses"
   ]
  },
  {
   "cell_type": "code",
   "execution_count": 26,
   "id": "eded030d-006b-4897-8399-f2c7a812ec95",
   "metadata": {},
   "outputs": [
    {
     "name": "stdout",
     "output_type": "stream",
     "text": [
      "19.583333333333332\n"
     ]
    }
   ],
   "source": [
    "avg = (sum(students[\"more\"].values()) / number_courses)\n",
    "print(avg)"
   ]
  },
  {
   "cell_type": "code",
   "execution_count": null,
   "id": "47069c63-7fe7-4bc9-9e6d-e5d6cc708661",
   "metadata": {},
   "outputs": [],
   "source": []
  }
 ],
 "metadata": {
  "kernelspec": {
   "display_name": "Python 3 (ipykernel)",
   "language": "python",
   "name": "python3"
  },
  "language_info": {
   "codemirror_mode": {
    "name": "ipython",
    "version": 3
   },
   "file_extension": ".py",
   "mimetype": "text/x-python",
   "name": "python",
   "nbconvert_exporter": "python",
   "pygments_lexer": "ipython3",
   "version": "3.12.4"
  }
 },
 "nbformat": 4,
 "nbformat_minor": 5
}
