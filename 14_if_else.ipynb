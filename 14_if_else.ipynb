{
 "cells": [
  {
   "cell_type": "code",
   "execution_count": null,
   "metadata": {},
   "outputs": [],
   "source": [
    "\"\"\"\n",
    "if Conditions:\n",
    "    statements\n",
    "else\n",
    "    statements\n",
    "\"\"\"    "
   ]
  },
  {
   "cell_type": "code",
   "execution_count": null,
   "metadata": {},
   "outputs": [],
   "source": [
    "if 1==1:\n",
    "    print(\"true\")\n",
    "else:\n",
    "    print(\"False\")"
   ]
  },
  {
   "cell_type": "code",
   "execution_count": 5,
   "metadata": {},
   "outputs": [
    {
     "name": "stdin",
     "output_type": "stream",
     "text": [
      "please enter a number: 6\n"
     ]
    },
    {
     "name": "stdout",
     "output_type": "stream",
     "text": [
      "other number\n"
     ]
    }
   ],
   "source": [
    "value = int(input(\"please enter a number:\"))\n",
    "if value == 1:\n",
    "    print(\"one\")\n",
    "elif value == 2:\n",
    "    print(\"Two\")\n",
    "elif value == 3:\n",
    "    print(\"three\")\n",
    "else:\n",
    "    print(\"other number\")"
   ]
  },
  {
   "cell_type": "code",
   "execution_count": 4,
   "metadata": {},
   "outputs": [
    {
     "name": "stdout",
     "output_type": "stream",
     "text": [
      "not ok\n"
     ]
    }
   ],
   "source": [
    "if False:\n",
    "    print(\"ok\")\n",
    "else:\n",
    "    print(\"not ok\")"
   ]
  },
  {
   "cell_type": "code",
   "execution_count": 6,
   "metadata": {},
   "outputs": [
    {
     "name": "stdin",
     "output_type": "stream",
     "text": [
      "please enter a number between(1-7): 5\n"
     ]
    },
    {
     "name": "stdout",
     "output_type": "stream",
     "text": [
      "Thursday\n"
     ]
    }
   ],
   "source": [
    "# day of week\n",
    "day = int(input(\"please enter a number between(1-7):\"))\n",
    "if value == 1:\n",
    "    print(\"Saturday\")\n",
    "elif value == 2:\n",
    "    print(\"Sunday\")\n",
    "elif value == 3:\n",
    "    print(\"Monday\")\n",
    "elif value == 4:\n",
    "    print(\"Tuesday\")\n",
    "elif value == 5:\n",
    "    print(\"Wednesday\")\n",
    "elif value == 6:\n",
    "    print(\"Thursday\")\n",
    "elif value == 7:\n",
    "    print(\"Friday\")\n",
    "else:\n",
    "    print(\"Wrong number\")"
   ]
  },
  {
   "cell_type": "code",
   "execution_count": null,
   "metadata": {},
   "outputs": [],
   "source": []
  }
 ],
 "metadata": {
  "kernelspec": {
   "display_name": "Python 3 (ipykernel)",
   "language": "python",
   "name": "python3"
  },
  "language_info": {
   "codemirror_mode": {
    "name": "ipython",
    "version": 3
   },
   "file_extension": ".py",
   "mimetype": "text/x-python",
   "name": "python",
   "nbconvert_exporter": "python",
   "pygments_lexer": "ipython3",
   "version": "3.11.5"
  }
 },
 "nbformat": 4,
 "nbformat_minor": 4
}
