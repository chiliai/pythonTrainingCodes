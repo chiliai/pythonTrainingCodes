{
 "cells": [
  {
   "cell_type": "code",
   "execution_count": 2,
   "id": "b459cf49-88c1-4e3f-80c1-665d968f76cb",
   "metadata": {},
   "outputs": [],
   "source": [
    "# description of mini project \n",
    "# ------------------------------\n",
    "# 1 m = 3.23084 foot\n",
    "# 1 foot = 12 inch\n",
    "# 1 m = 39.37008 inch\n",
    "\n",
    "# we have 3 three units: meter, foot, inch"
   ]
  },
  {
   "cell_type": "code",
   "execution_count": 4,
   "id": "06151a90-9898-4089-b710-2874b9f6d1ac",
   "metadata": {},
   "outputs": [],
   "source": [
    "meter_to_foot = 3.23084\n",
    "foot_to_inch = 12\n",
    "meter_to_inch = 39.37008"
   ]
  },
  {
   "cell_type": "code",
   "execution_count": 7,
   "id": "ccc82e42-7f6a-4f92-8d9f-c3eb74a4d535",
   "metadata": {},
   "outputs": [
    {
     "name": "stdout",
     "output_type": "stream",
     "text": [
      "\n",
      "1 : meter\n",
      "2 : foor\n",
      "3 : inch \n",
      "\n"
     ]
    },
    {
     "name": "stdin",
     "output_type": "stream",
     "text": [
      "please enter a number(1, 2, 3) for input unit: 1\n",
      "please enter a number(1, 2, 3) for output unit: 3\n",
      "input value 2\n"
     ]
    }
   ],
   "source": [
    "print(\"\"\"\n",
    "1 : meter\n",
    "2 : foor\n",
    "3 : inch \n",
    "\"\"\")\n",
    "input_unit = input(\"please enter a number(1, 2, 3) for input unit:\")\n",
    "output_unit = input(\"please enter a number(1, 2, 3) for output unit:\")\n",
    "\n",
    "input_value = float(input(\"input value\"))"
   ]
  },
  {
   "cell_type": "code",
   "execution_count": 8,
   "id": "8139fa7f-a749-452a-b8ad-7724df1a4455",
   "metadata": {},
   "outputs": [
    {
     "name": "stdout",
     "output_type": "stream",
     "text": [
      "input value is 2.0 meter\n",
      "2.0 meter is 78.74016 inch\n"
     ]
    }
   ],
   "source": [
    "if input_unit == \"1\":\n",
    "    print(f\"input value is {input_value} meter\")\n",
    "    if output_unit == \"2\":\n",
    "        print(f\"{input_value} meter is {input_value * meter_to_foot} foot\")\n",
    "    if output_unit == \"3\":\n",
    "         print(f\"{input_value} meter is {input_value * meter_to_inch} inch\")\n",
    "    else:\n",
    "        print(f\"{input_value} meter\")\n",
    "elif input_unit == \"2\":\n",
    "    print(f\"input value is {input_value} foot\")\n",
    "    if output_unit == \"1\":\n",
    "        print(f\"{input_value} foot is {input_value / meter_to_foot} meter\")\n",
    "    if output_unit == \"3\":\n",
    "         print(f\"{input_value} foot is {input_value * foot_to_inch} inch\")\n",
    "    else:\n",
    "        print(f\"{input_value} foot\")\n",
    "elif input_unit == \"3\":\n",
    "    print(f\"input value is {input_value} inch\")\n",
    "    if output_unit == \"1\":\n",
    "        print(f\"{input_value} inch is {input_value / meter_to_foot} meter\")\n",
    "    if output_unit == \"2\":\n",
    "         print(f\"{input_value} inch is {input_value / foot_to_inch} foot\")\n",
    "    else:\n",
    "        print(f\"{input_value} inch\")"
   ]
  },
  {
   "cell_type": "code",
   "execution_count": null,
   "id": "2e760bd0-f410-4338-9553-f297a06b32ef",
   "metadata": {},
   "outputs": [],
   "source": []
  }
 ],
 "metadata": {
  "kernelspec": {
   "display_name": "Python 3 (ipykernel)",
   "language": "python",
   "name": "python3"
  },
  "language_info": {
   "codemirror_mode": {
    "name": "ipython",
    "version": 3
   },
   "file_extension": ".py",
   "mimetype": "text/x-python",
   "name": "python",
   "nbconvert_exporter": "python",
   "pygments_lexer": "ipython3",
   "version": "3.11.5"
  }
 },
 "nbformat": 4,
 "nbformat_minor": 5
}
