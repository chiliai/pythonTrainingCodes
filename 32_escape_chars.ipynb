{
 "cells": [
  {
   "cell_type": "code",
   "execution_count": 9,
   "id": "32ee6d1c-ce65-42bb-8448-7eea210b6b6a",
   "metadata": {},
   "outputs": [
    {
     "name": "stdout",
     "output_type": "stream",
     "text": [
      "hello \n",
      "how are you?\n"
     ]
    }
   ],
   "source": [
    "text = \"hello \\nhow are you?\"\n",
    "print(text)"
   ]
  },
  {
   "cell_type": "code",
   "execution_count": 10,
   "id": "1ce45e39-7e6b-40e1-887f-fd59e2dceb28",
   "metadata": {},
   "outputs": [
    {
     "name": "stdout",
     "output_type": "stream",
     "text": [
      "my name is \"more\"\n"
     ]
    }
   ],
   "source": [
    "text = 'my name is \"more\"'\n",
    "print(text)"
   ]
  },
  {
   "cell_type": "code",
   "execution_count": 18,
   "id": "3464384a-ad71-49ab-9b69-8bfd04269b3d",
   "metadata": {},
   "outputs": [
    {
     "name": "stdout",
     "output_type": "stream",
     "text": [
      "who's my name is \"more\"\n"
     ]
    }
   ],
   "source": [
    "text = \"who's my name is \\\"more\\\"\"\n",
    "print(text)"
   ]
  },
  {
   "cell_type": "code",
   "execution_count": 19,
   "id": "d99c12b6-eb74-4a68-8fb6-a9521db26c90",
   "metadata": {},
   "outputs": [
    {
     "name": "stdout",
     "output_type": "stream",
     "text": [
      "more\\number\n"
     ]
    }
   ],
   "source": [
    "text = \"more\\\\number\"\n",
    "print(text)"
   ]
  },
  {
   "cell_type": "code",
   "execution_count": 23,
   "id": "5cb49f7e-e932-4801-873a-b7fa9eb5aa7a",
   "metadata": {},
   "outputs": [
    {
     "name": "stdout",
     "output_type": "stream",
     "text": [
      "hel\tllo\n"
     ]
    }
   ],
   "source": [
    "text = \"hel\\tllo\"\n",
    "print(text)"
   ]
  },
  {
   "cell_type": "code",
   "execution_count": 27,
   "id": "8bdf7998-0a00-455f-ac45-13103e554fca",
   "metadata": {},
   "outputs": [
    {
     "name": "stdout",
     "output_type": "stream",
     "text": [
      "hello\n"
     ]
    }
   ],
   "source": [
    "# \\b look like backspace\n",
    "text = \"hel\\bllo\"\n",
    "print(text)"
   ]
  },
  {
   "cell_type": "code",
   "execution_count": 30,
   "id": "e05b2495-ad2a-449d-9ada-ea4e43a11598",
   "metadata": {},
   "outputs": [
    {
     "name": "stdout",
     "output_type": "stream",
     "text": [
      "heylo\n"
     ]
    }
   ],
   "source": [
    "text = \"hello\\rhey\"\n",
    "print(text)"
   ]
  },
  {
   "cell_type": "code",
   "execution_count": 33,
   "id": "25492333-b08f-41ff-a3e9-44f88eae1a23",
   "metadata": {},
   "outputs": [
    {
     "name": "stdout",
     "output_type": "stream",
     "text": [
      "hello\n",
      "my\n"
     ]
    }
   ],
   "source": [
    "text = \"hello my\"\n",
    "print(text.replace(\" \", \"\\n\"))"
   ]
  },
  {
   "cell_type": "code",
   "execution_count": 40,
   "id": "01cc05fd-a9e5-4697-9321-b1d70d1333ab",
   "metadata": {},
   "outputs": [],
   "source": [
    "# unicode characters\n",
    "# \\u 0000\n",
    "#\\u 00000000\n",
    "# https://www.rapidtables.com/code/text/unicode-characters.html"
   ]
  },
  {
   "cell_type": "code",
   "execution_count": 39,
   "id": "2d2b0935-e455-47ca-b2df-de932a9f3e05",
   "metadata": {},
   "outputs": [
    {
     "name": "stdout",
     "output_type": "stream",
     "text": [
      "©\n"
     ]
    }
   ],
   "source": [
    "text = \"\\u00A9\"\n",
    "print(text)"
   ]
  },
  {
   "cell_type": "code",
   "execution_count": 42,
   "id": "ca5f2711-fbb1-4926-87ec-67236cf5952a",
   "metadata": {},
   "outputs": [
    {
     "name": "stdout",
     "output_type": "stream",
     "text": [
      "∞\n"
     ]
    }
   ],
   "source": [
    "text = \"\\u221E\"\n",
    "print(text)"
   ]
  },
  {
   "cell_type": "code",
   "execution_count": 44,
   "id": "5278e533-89f9-40d2-8bda-1ebc268ad4e3",
   "metadata": {},
   "outputs": [
    {
     "name": "stdout",
     "output_type": "stream",
     "text": [
      "\\who's \\my n\\ame i\\s \\\"more\\\"\n"
     ]
    }
   ],
   "source": [
    "print(r\"\\who's \\my n\\ame i\\s \\\"more\\\"\")"
   ]
  },
  {
   "cell_type": "code",
   "execution_count": null,
   "id": "e048699f-de33-40b4-8919-a9da906b4d3e",
   "metadata": {},
   "outputs": [],
   "source": []
  }
 ],
 "metadata": {
  "kernelspec": {
   "display_name": "Python 3 (ipykernel)",
   "language": "python",
   "name": "python3"
  },
  "language_info": {
   "codemirror_mode": {
    "name": "ipython",
    "version": 3
   },
   "file_extension": ".py",
   "mimetype": "text/x-python",
   "name": "python",
   "nbconvert_exporter": "python",
   "pygments_lexer": "ipython3",
   "version": "3.12.4"
  }
 },
 "nbformat": 4,
 "nbformat_minor": 5
}
