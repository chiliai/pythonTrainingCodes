{
 "cells": [
  {
   "cell_type": "code",
   "execution_count": 1,
   "id": "8f39abfb-5f28-4673-b117-4c5ff61a9232",
   "metadata": {},
   "outputs": [
    {
     "data": {
      "text/plain": [
       "'\\nعددی که بر خودش و یک تاقسیم پذیر است\\n'"
      ]
     },
     "execution_count": 1,
     "metadata": {},
     "output_type": "execute_result"
    }
   ],
   "source": [
    "\"\"\"\n",
    "عددی که بر خودش و یک تقسیم پذیر است\n",
    "\"\"\""
   ]
  },
  {
   "cell_type": "code",
   "execution_count": 4,
   "id": "1d6fc6e7-5eca-4c10-9098-26680bb833df",
   "metadata": {},
   "outputs": [],
   "source": [
    "def is_prime(num):\n",
    "    if num > 1:\n",
    "        limit = ((num // 2) + 1) # برای جلوگیری از حلقه های تکراری باقیمانده صحیح بر 2 را انجام می دهیم\n",
    "        for i in range(2, limit):\n",
    "            if num % i == 0:\n",
    "                return False\n",
    "    else:\n",
    "        return False\n",
    "    return True"
   ]
  },
  {
   "cell_type": "code",
   "execution_count": 9,
   "id": "4ba35a82-7c9f-4a65-b03f-24f2a1f4f832",
   "metadata": {},
   "outputs": [
    {
     "name": "stdout",
     "output_type": "stream",
     "text": [
      "False\n"
     ]
    }
   ],
   "source": [
    "number = -1\n",
    "print(is_prime(number))"
   ]
  },
  {
   "cell_type": "code",
   "execution_count": 10,
   "id": "4e93f762-d33f-415c-9079-3b37adaa3efa",
   "metadata": {},
   "outputs": [],
   "source": [
    "#2  3  5  7 11  13  17  19  23  29  31  37  41  43  47  53  59  61  67  71  73  79  83  89  97"
   ]
  },
  {
   "cell_type": "code",
   "execution_count": 13,
   "id": "316dc5a4-55b6-42c3-ac54-c5caa371a612",
   "metadata": {},
   "outputs": [],
   "source": [
    "def is_prime_02(num):\n",
    "    prime = True\n",
    "    if num > 1:\n",
    "        limit = ((num // 2) + 1)\n",
    "        for i in range(2, limit):\n",
    "            if num % i == 0:\n",
    "                prime =  False\n",
    "                break\n",
    "    else:\n",
    "        prime =  False\n",
    "    return prime"
   ]
  },
  {
   "cell_type": "code",
   "execution_count": 12,
   "id": "5c8c2d51-53e9-4a2d-b08d-1b19ddad6468",
   "metadata": {},
   "outputs": [
    {
     "data": {
      "text/plain": [
       "False"
      ]
     },
     "execution_count": 12,
     "metadata": {},
     "output_type": "execute_result"
    }
   ],
   "source": [
    "is_prime_02(34)"
   ]
  },
  {
   "cell_type": "code",
   "execution_count": null,
   "id": "71a9f1a2-13cd-426a-afb1-36e7caf70eb7",
   "metadata": {},
   "outputs": [],
   "source": []
  }
 ],
 "metadata": {
  "kernelspec": {
   "display_name": "Python 3 (ipykernel)",
   "language": "python",
   "name": "python3"
  },
  "language_info": {
   "codemirror_mode": {
    "name": "ipython",
    "version": 3
   },
   "file_extension": ".py",
   "mimetype": "text/x-python",
   "name": "python",
   "nbconvert_exporter": "python",
   "pygments_lexer": "ipython3",
   "version": "3.12.4"
  }
 },
 "nbformat": 4,
 "nbformat_minor": 5
}
