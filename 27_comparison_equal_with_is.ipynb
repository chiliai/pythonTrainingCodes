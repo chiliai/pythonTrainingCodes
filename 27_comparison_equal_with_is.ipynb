{
 "cells": [
  {
   "cell_type": "code",
   "execution_count": 2,
   "id": "a1eb20eb-10ab-421e-bf36-41c678ba1600",
   "metadata": {},
   "outputs": [
    {
     "name": "stdout",
     "output_type": "stream",
     "text": [
      "True\n"
     ]
    }
   ],
   "source": [
    "print(8 == 8.000)"
   ]
  },
  {
   "cell_type": "code",
   "execution_count": 3,
   "id": "58c526f2-8662-40f6-b015-36bdc0ff011f",
   "metadata": {},
   "outputs": [
    {
     "name": "stdout",
     "output_type": "stream",
     "text": [
      "True\n"
     ]
    }
   ],
   "source": [
    "print([]==[])"
   ]
  },
  {
   "cell_type": "code",
   "execution_count": 4,
   "id": "02ee3521-f785-4d3d-9a12-c4d0bd98a5c0",
   "metadata": {},
   "outputs": [
    {
     "name": "stdout",
     "output_type": "stream",
     "text": [
      "True\n"
     ]
    }
   ],
   "source": [
    "print( False == 0)"
   ]
  },
  {
   "cell_type": "code",
   "execution_count": 5,
   "id": "52405035-2527-4582-8592-7f9f06b4367d",
   "metadata": {},
   "outputs": [
    {
     "name": "stdout",
     "output_type": "stream",
     "text": [
      "False\n"
     ]
    }
   ],
   "source": [
    "print ('10' == 10)"
   ]
  },
  {
   "cell_type": "code",
   "execution_count": 7,
   "id": "445e3ad3-508c-44b4-98a3-bee7420aca63",
   "metadata": {},
   "outputs": [
    {
     "name": "stdout",
     "output_type": "stream",
     "text": [
      "True\n"
     ]
    }
   ],
   "source": [
    "print([1,2,3] == [1,2,3])"
   ]
  },
  {
   "cell_type": "code",
   "execution_count": 8,
   "id": "45befc0f-659b-4b0d-a9be-d7fe5ff930fc",
   "metadata": {},
   "outputs": [
    {
     "name": "stdout",
     "output_type": "stream",
     "text": [
      "False\n"
     ]
    }
   ],
   "source": [
    "print([1,2,3,4] == [1,2,3])"
   ]
  },
  {
   "cell_type": "code",
   "execution_count": 9,
   "id": "988af54f-095c-4890-a5c6-6ef98e81acb5",
   "metadata": {},
   "outputs": [],
   "source": [
    "########################################################\n",
    "######################### Is ###########################"
   ]
  },
  {
   "cell_type": "code",
   "execution_count": 13,
   "id": "1f7ef87a-207e-4e34-87c6-211dc032d3e1",
   "metadata": {
    "scrolled": true
   },
   "outputs": [
    {
     "name": "stdout",
     "output_type": "stream",
     "text": [
      "False\n",
      "False\n",
      "False\n",
      "False\n",
      "False\n",
      "False\n"
     ]
    },
    {
     "name": "stderr",
     "output_type": "stream",
     "text": [
      "<>:1: SyntaxWarning: \"is\" with 'int' literal. Did you mean \"==\"?\n",
      "<>:3: SyntaxWarning: \"is\" with 'int' literal. Did you mean \"==\"?\n",
      "<>:4: SyntaxWarning: \"is\" with 'str' literal. Did you mean \"==\"?\n",
      "<>:1: SyntaxWarning: \"is\" with 'int' literal. Did you mean \"==\"?\n",
      "<>:3: SyntaxWarning: \"is\" with 'int' literal. Did you mean \"==\"?\n",
      "<>:4: SyntaxWarning: \"is\" with 'str' literal. Did you mean \"==\"?\n",
      "C:\\Users\\morteza\\AppData\\Local\\Temp\\ipykernel_3344\\2740549975.py:1: SyntaxWarning: \"is\" with 'int' literal. Did you mean \"==\"?\n",
      "  print( 8 is 8.000 )\n",
      "C:\\Users\\morteza\\AppData\\Local\\Temp\\ipykernel_3344\\2740549975.py:3: SyntaxWarning: \"is\" with 'int' literal. Did you mean \"==\"?\n",
      "  print( False is 0)\n",
      "C:\\Users\\morteza\\AppData\\Local\\Temp\\ipykernel_3344\\2740549975.py:4: SyntaxWarning: \"is\" with 'str' literal. Did you mean \"==\"?\n",
      "  print ('10' is 10)\n"
     ]
    }
   ],
   "source": [
    "print( 8 is 8.000 )\n",
    "print([] is[])\n",
    "print( False is 0)\n",
    "print ('10' is 10)\n",
    "print([1,2,3] is [1,2,3])\n",
    "print([1,2,3,4] is [1,2,3])"
   ]
  },
  {
   "cell_type": "code",
   "execution_count": 16,
   "id": "56c85e96-2c52-48f5-ad46-3e089de7d100",
   "metadata": {},
   "outputs": [
    {
     "data": {
      "text/plain": [
       "'\\nدر عمگلر دو تا مساوی ما فقط مقادیر را با هم مقایسه می کنیم\\nاما\\nدر عملگر is\\nآیا مقادیر دقیقا همان مقدار است یا خیر\\nیعنی\\nبه غیر از مقادیر دنبال چک کردن هویت داده های وارد شده هم هستند\\n'"
      ]
     },
     "execution_count": 16,
     "metadata": {},
     "output_type": "execute_result"
    }
   ],
   "source": [
    "\"\"\"\n",
    "در عمگلر دو تا مساوی ما فقط مقادیر را با هم مقایسه می کنیم\n",
    "اما\n",
    "در عملگر is\n",
    "آیا مقادیر دقیقا همان مقدار است یا خیر\n",
    "یعنی\n",
    "به غیر از مقادیر دنبال چک کردن هویت داده های وارد شده هم هستند\n",
    "\"\"\""
   ]
  },
  {
   "cell_type": "code",
   "execution_count": 15,
   "id": "9f290b22-7850-410f-be75-35ef6e5e1bc2",
   "metadata": {},
   "outputs": [
    {
     "name": "stdout",
     "output_type": "stream",
     "text": [
      "True\n"
     ]
    },
    {
     "name": "stderr",
     "output_type": "stream",
     "text": [
      "<>:1: SyntaxWarning: \"is\" with 'int' literal. Did you mean \"==\"?\n",
      "<>:1: SyntaxWarning: \"is\" with 'int' literal. Did you mean \"==\"?\n",
      "C:\\Users\\morteza\\AppData\\Local\\Temp\\ipykernel_3344\\2045104977.py:1: SyntaxWarning: \"is\" with 'int' literal. Did you mean \"==\"?\n",
      "  print( 8 is 8)\n"
     ]
    }
   ],
   "source": [
    "print( 8 is 8)"
   ]
  },
  {
   "cell_type": "code",
   "execution_count": null,
   "id": "3999a8c3-6ace-49be-b48d-ac5a7d3028f0",
   "metadata": {},
   "outputs": [],
   "source": []
  }
 ],
 "metadata": {
  "kernelspec": {
   "display_name": "Python 3 (ipykernel)",
   "language": "python",
   "name": "python3"
  },
  "language_info": {
   "codemirror_mode": {
    "name": "ipython",
    "version": 3
   },
   "file_extension": ".py",
   "mimetype": "text/x-python",
   "name": "python",
   "nbconvert_exporter": "python",
   "pygments_lexer": "ipython3",
   "version": "3.12.4"
  }
 },
 "nbformat": 4,
 "nbformat_minor": 5
}
