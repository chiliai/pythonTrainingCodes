{
 "cells": [
  {
   "cell_type": "code",
   "execution_count": 7,
   "id": "9c0e1a6d-adab-44c1-9c4b-5512bab6fda1",
   "metadata": {},
   "outputs": [
    {
     "data": {
      "text/plain": [
       "[0, 2, 4, 6, 8, 10]"
      ]
     },
     "execution_count": 7,
     "metadata": {},
     "output_type": "execute_result"
    }
   ],
   "source": [
    "nums_even = range(0, 11, 2) # start, stop, step\n",
    "list(nums_even)"
   ]
  },
  {
   "cell_type": "code",
   "execution_count": 10,
   "id": "0c03bae8-da78-4922-ae37-31798fd59514",
   "metadata": {},
   "outputs": [
    {
     "data": {
      "text/plain": [
       "[10, 8, 6, 4, 2]"
      ]
     },
     "execution_count": 10,
     "metadata": {},
     "output_type": "execute_result"
    }
   ],
   "source": [
    "nums_even_02 = range(10, 0, -2) # start, stop, step\n",
    "list(nums_even_02)"
   ]
  },
  {
   "cell_type": "code",
   "execution_count": 12,
   "id": "e4ed94c8-79de-48c6-990b-545ac38a1912",
   "metadata": {},
   "outputs": [
    {
     "data": {
      "text/plain": [
       "[-10, -8, -6, -4, -2]"
      ]
     },
     "execution_count": 12,
     "metadata": {},
     "output_type": "execute_result"
    }
   ],
   "source": [
    "nums_even_03 = range(-10, 0, 2) # start, stop, step\n",
    "list(nums_even_03)"
   ]
  },
  {
   "cell_type": "code",
   "execution_count": 14,
   "id": "b3cd1eb0-d657-40bf-b797-cd3e8f42536e",
   "metadata": {},
   "outputs": [
    {
     "name": "stdout",
     "output_type": "stream",
     "text": [
      "0\n",
      "2\n",
      "4\n",
      "6\n",
      "8\n",
      "10\n",
      "12\n",
      "14\n",
      "16\n",
      "18\n",
      "20\n"
     ]
    }
   ],
   "source": [
    "for i in range(0, 21, 2):\n",
    "    print(i)"
   ]
  },
  {
   "cell_type": "code",
   "execution_count": 17,
   "id": "65a051c0-2ca5-483a-b031-852e4d5d7bde",
   "metadata": {},
   "outputs": [
    {
     "name": "stdout",
     "output_type": "stream",
     "text": [
      "\n",
      "*\n",
      "**\n",
      "***\n",
      "****\n",
      "*****\n",
      "******\n",
      "*******\n",
      "********\n",
      "*********\n",
      "**********\n",
      "*********\n",
      "********\n",
      "*******\n",
      "******\n",
      "*****\n",
      "****\n",
      "***\n",
      "**\n",
      "*\n"
     ]
    }
   ],
   "source": [
    "for i in range(0,2):\n",
    "    if i % 2 == 0:\n",
    "        for j in range(0, 10):\n",
    "            print(j*\"*\")\n",
    "    else:\n",
    "        for k in range(10, 0, -1):\n",
    "            print(k * \"*\")"
   ]
  },
  {
   "cell_type": "code",
   "execution_count": 28,
   "id": "6b7f0fbf-c88c-470d-aad1-86f7c09d810c",
   "metadata": {},
   "outputs": [
    {
     "name": "stdout",
     "output_type": "stream",
     "text": [
      "                  \n",
      "*                *\n",
      "**              **\n",
      "***            ***\n",
      "****          ****\n",
      "*****        *****\n",
      "******      ******\n",
      "*******    *******\n",
      "********  ********\n",
      "******************\n",
      "******************\n",
      "********  ********\n",
      "*******    *******\n",
      "******      ******\n",
      "*****        *****\n",
      "****          ****\n",
      "***            ***\n",
      "**              **\n",
      "*                *\n"
     ]
    }
   ],
   "source": [
    "for i in range(0,2):\n",
    "    if i % 2 == 0:\n",
    "        for j in range(0, 10, 1):\n",
    "            print( j * \"*\" + 2 * (9-j) * \" \" + j * \"*\")\n",
    "    else:\n",
    "        for k in range(9, 0, -1):\n",
    "            print( k * \"*\" + 2 * (9-k) * \" \" + k * \"*\")"
   ]
  },
  {
   "cell_type": "code",
   "execution_count": null,
   "id": "b5908510-c001-49cf-b83d-eb0a5e2a66b2",
   "metadata": {},
   "outputs": [],
   "source": []
  }
 ],
 "metadata": {
  "kernelspec": {
   "display_name": "Python 3 (ipykernel)",
   "language": "python",
   "name": "python3"
  },
  "language_info": {
   "codemirror_mode": {
    "name": "ipython",
    "version": 3
   },
   "file_extension": ".py",
   "mimetype": "text/x-python",
   "name": "python",
   "nbconvert_exporter": "python",
   "pygments_lexer": "ipython3",
   "version": "3.12.4"
  }
 },
 "nbformat": 4,
 "nbformat_minor": 5
}
