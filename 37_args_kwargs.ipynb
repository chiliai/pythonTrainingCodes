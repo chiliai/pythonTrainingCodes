{
 "cells": [
  {
   "cell_type": "code",
   "execution_count": 20,
   "id": "0746375b-7777-4195-87dd-693c57f90ab4",
   "metadata": {},
   "outputs": [],
   "source": [
    "# *args = arguments\n",
    "# **kwargs = key words arguments"
   ]
  },
  {
   "cell_type": "code",
   "execution_count": 2,
   "id": "9a8ac237-a996-49fc-82fd-a7fd53c7201e",
   "metadata": {},
   "outputs": [],
   "source": [
    "def test_func(args):\n",
    "    print(args)"
   ]
  },
  {
   "cell_type": "code",
   "execution_count": 3,
   "id": "7f1423af-d3a3-4a77-a32e-9c55fc91d01b",
   "metadata": {},
   "outputs": [
    {
     "name": "stdout",
     "output_type": "stream",
     "text": [
      "5\n"
     ]
    }
   ],
   "source": [
    "test_func(5)"
   ]
  },
  {
   "cell_type": "code",
   "execution_count": 6,
   "id": "61a3152e-4adf-4193-a587-99b617ec4999",
   "metadata": {},
   "outputs": [],
   "source": [
    "def test_func_02(*args):\n",
    "    print(args)\n",
    "    print(type(args))"
   ]
  },
  {
   "cell_type": "code",
   "execution_count": 7,
   "id": "5c66b093-ee15-43cf-93fb-f8796d4ef512",
   "metadata": {},
   "outputs": [
    {
     "name": "stdout",
     "output_type": "stream",
     "text": [
      "(1, 2, 3, 4)\n",
      "<class 'tuple'>\n"
     ]
    }
   ],
   "source": [
    "test_func_02(1,2,3,4)"
   ]
  },
  {
   "cell_type": "code",
   "execution_count": 14,
   "id": "512b7f00-3d27-4621-bc12-ac84d904682c",
   "metadata": {},
   "outputs": [],
   "source": [
    "def test_func_03(name, *args):\n",
    "    print(args)\n",
    "    print(name)"
   ]
  },
  {
   "cell_type": "code",
   "execution_count": 15,
   "id": "f30739f4-2c4c-40c4-a642-dc8a3b7c808e",
   "metadata": {},
   "outputs": [
    {
     "name": "stdout",
     "output_type": "stream",
     "text": [
      "(52, 48, 78)\n",
      "we\n"
     ]
    }
   ],
   "source": [
    "test_func_03(\"we\", 52,48,78)"
   ]
  },
  {
   "cell_type": "code",
   "execution_count": 18,
   "id": "6cb342e0-a3a0-4010-abc7-938a69570cb4",
   "metadata": {},
   "outputs": [],
   "source": [
    "def names_func(name, *args):\n",
    "    print(f\"my name is {name}\")\n",
    "    if args:\n",
    "        print(\"other names has:\")\n",
    "        i = 1\n",
    "        for n in args:\n",
    "            print(f\"{i}. {n}\")\n",
    "            i += 1"
   ]
  },
  {
   "cell_type": "code",
   "execution_count": 19,
   "id": "b2d17ef2-2bae-4d67-8ca7-6c05dd401f9e",
   "metadata": {},
   "outputs": [
    {
     "name": "stdout",
     "output_type": "stream",
     "text": [
      "my name is more\n",
      "other names has:\n",
      "1. reza\n",
      "2. saman\n",
      "3. ali\n"
     ]
    }
   ],
   "source": [
    "names_func(\"more\", \"reza\", \"saman\", \"ali\")"
   ]
  },
  {
   "cell_type": "code",
   "execution_count": 27,
   "id": "c035fef3-c3c7-4adc-94c7-42f6c14c9746",
   "metadata": {},
   "outputs": [],
   "source": [
    "def names_func_02(**kwargs):\n",
    "    print(kwargs)"
   ]
  },
  {
   "cell_type": "code",
   "execution_count": 31,
   "id": "e1740f60-377f-4df6-815f-9e7893ffe1df",
   "metadata": {},
   "outputs": [
    {
     "name": "stdout",
     "output_type": "stream",
     "text": [
      "{'ns1': 'more', 'ns2': 'reza', 'ns3': 'saman', 'ns4': 'ali'}\n"
     ]
    }
   ],
   "source": [
    "names_func_02(ns1= \"more\", ns2 = \"reza\", ns3 = \"saman\", ns4= \"ali\")"
   ]
  },
  {
   "cell_type": "code",
   "execution_count": 39,
   "id": "9381db1e-59a5-46ce-a118-d8b206603c73",
   "metadata": {},
   "outputs": [],
   "source": [
    "def names_func_03(name, **kwargs):\n",
    "    print(f\"my name is {name}\")\n",
    "    if kwargs:\n",
    "        print(\"other names has:\")\n",
    "        i = 1\n",
    "        for n in kwargs.values():\n",
    "            print(f\"{i}. {n}\")\n",
    "            i += 1"
   ]
  },
  {
   "cell_type": "code",
   "execution_count": 40,
   "id": "f77114da-29ac-4b07-9ae3-2077aa34dcd5",
   "metadata": {},
   "outputs": [
    {
     "name": "stdout",
     "output_type": "stream",
     "text": [
      "my name is more\n",
      "other names has:\n",
      "1. more\n",
      "2. reza\n",
      "3. saman\n",
      "4. ali\n"
     ]
    }
   ],
   "source": [
    "names_func_03(name=\"more\", ns1= \"more\", ns2 = \"reza\", ns3 = \"saman\", ns4= \"ali\")"
   ]
  },
  {
   "cell_type": "code",
   "execution_count": null,
   "id": "cb8aa08b-b52e-481b-930e-8d9717bc3ea5",
   "metadata": {},
   "outputs": [],
   "source": []
  }
 ],
 "metadata": {
  "kernelspec": {
   "display_name": "Python 3 (ipykernel)",
   "language": "python",
   "name": "python3"
  },
  "language_info": {
   "codemirror_mode": {
    "name": "ipython",
    "version": 3
   },
   "file_extension": ".py",
   "mimetype": "text/x-python",
   "name": "python",
   "nbconvert_exporter": "python",
   "pygments_lexer": "ipython3",
   "version": "3.12.4"
  }
 },
 "nbformat": 4,
 "nbformat_minor": 5
}
