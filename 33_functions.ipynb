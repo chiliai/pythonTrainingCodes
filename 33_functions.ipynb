{
 "cells": [
  {
   "cell_type": "code",
   "execution_count": 1,
   "id": "6f1f51d7-176b-446c-a127-829b213cf3dc",
   "metadata": {},
   "outputs": [
    {
     "name": "stdout",
     "output_type": "stream",
     "text": [
      "9\n"
     ]
    }
   ],
   "source": [
    "def summation_nums():\n",
    "    return 2+7\n",
    "\n",
    "res = summation_nums()\n",
    "print(res)"
   ]
  },
  {
   "cell_type": "code",
   "execution_count": 3,
   "id": "758fd24a-5783-4673-be07-8a54923a0c65",
   "metadata": {},
   "outputs": [
    {
     "name": "stdout",
     "output_type": "stream",
     "text": [
      "17\n"
     ]
    }
   ],
   "source": [
    "a = 6\n",
    "b = 11\n",
    "\n",
    "def summation_numbers(a ,b):\n",
    "    return a + b\n",
    "\n",
    "res = summation_numbers(a , b)\n",
    "print(res)"
   ]
  },
  {
   "cell_type": "code",
   "execution_count": 8,
   "id": "90cdbaae-cbc0-48ae-96fa-41e21a25eec6",
   "metadata": {},
   "outputs": [
    {
     "name": "stdout",
     "output_type": "stream",
     "text": [
      "you'r nickname is bottle\n"
     ]
    }
   ],
   "source": [
    "def sayNM(nickname=\"\"):\n",
    "    #print(\"you'r nickname is {}\".format(nickname))\n",
    "    print(f\"you'r nickname is {nickname}\")\n",
    "\n",
    "nm = \"bottle\"\n",
    "sayNM(nm)"
   ]
  },
  {
   "cell_type": "code",
   "execution_count": 10,
   "id": "9193b9bf-dc52-4adc-a6a0-9f9d8e3938a0",
   "metadata": {},
   "outputs": [
    {
     "name": "stdout",
     "output_type": "stream",
     "text": [
      "\n",
      "def test(PARAMETERS):\n",
      "    something\n",
      "\n",
      "test(ARGUMENTS)\n",
      "\n"
     ]
    }
   ],
   "source": [
    "# parameter and argument\n",
    "\n",
    "text = \"\"\"\n",
    "def test(PARAMETERS):\n",
    "    something\n",
    "\n",
    "test(ARGUMENTS)\n",
    "\"\"\"\n",
    "\n",
    "print(text)"
   ]
  },
  {
   "cell_type": "code",
   "execution_count": 13,
   "id": "fdb914c5-5ff8-4fe6-915c-81d59fad3e30",
   "metadata": {},
   "outputs": [
    {
     "data": {
      "text/plain": [
       "{'p1': 'morteza', 'p2': 'elman', 'p3': 'eyhan'}"
      ]
     },
     "execution_count": 13,
     "metadata": {},
     "output_type": "execute_result"
    }
   ],
   "source": [
    "# user modified function for convert list to dic\n",
    "\n",
    "def convert_lst_to_dict(students):\n",
    "    my_dict = {}\n",
    "    i = 1\n",
    "    for person in students:\n",
    "        p = f\"p{i}\"\n",
    "        my_dict[p] = person\n",
    "        i += 1\n",
    "    return my_dict\n",
    "\n",
    "students = [\"morteza\", \"elman\", \"eyhan\"]\n",
    "convert_lst_to_dict(students)\n"
   ]
  },
  {
   "cell_type": "code",
   "execution_count": null,
   "id": "42febd2c-37a2-4f85-a4fb-d6ba9bed7487",
   "metadata": {},
   "outputs": [],
   "source": []
  }
 ],
 "metadata": {
  "kernelspec": {
   "display_name": "Python 3 (ipykernel)",
   "language": "python",
   "name": "python3"
  },
  "language_info": {
   "codemirror_mode": {
    "name": "ipython",
    "version": 3
   },
   "file_extension": ".py",
   "mimetype": "text/x-python",
   "name": "python",
   "nbconvert_exporter": "python",
   "pygments_lexer": "ipython3",
   "version": "3.12.4"
  }
 },
 "nbformat": 4,
 "nbformat_minor": 5
}
