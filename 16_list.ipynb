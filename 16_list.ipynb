{
 "cells": [
  {
   "cell_type": "code",
   "execution_count": 3,
   "id": "036bc91c-bbef-4d74-b022-b1e743f2aac6",
   "metadata": {},
   "outputs": [
    {
     "data": {
      "text/plain": [
       "[]"
      ]
     },
     "execution_count": 3,
     "metadata": {},
     "output_type": "execute_result"
    }
   ],
   "source": [
    "\"\"\"\n",
    "list has a new data type\n",
    "\n",
    "1. A bracket is a list symbol \n",
    "\"\"\"\n",
    "list()\n"
   ]
  },
  {
   "cell_type": "code",
   "execution_count": 6,
   "id": "8c8d25ac-01d2-4291-b085-9e3858798de2",
   "metadata": {},
   "outputs": [
    {
     "data": {
      "text/plain": [
       "['apple', 'banana', 'cherry', 'mango', 'carrot']"
      ]
     },
     "execution_count": 6,
     "metadata": {},
     "output_type": "execute_result"
    }
   ],
   "source": [
    "fruites = [\"apple\", \"banana\", \"cherry\", \"mango\", \"carrot\"]\n",
    "fruites"
   ]
  },
  {
   "cell_type": "code",
   "execution_count": 9,
   "id": "31896675-8f2d-4076-b752-db5f6ff01cb8",
   "metadata": {},
   "outputs": [
    {
     "data": {
      "text/plain": [
       "'cherry'"
      ]
     },
     "execution_count": 9,
     "metadata": {},
     "output_type": "execute_result"
    }
   ],
   "source": [
    "# we can show index of list\n",
    "fruites[2]"
   ]
  },
  {
   "cell_type": "code",
   "execution_count": 8,
   "id": "053df282-810b-4cc0-b12f-ef0c192998fc",
   "metadata": {},
   "outputs": [
    {
     "data": {
      "text/plain": [
       "list"
      ]
     },
     "execution_count": 8,
     "metadata": {},
     "output_type": "execute_result"
    }
   ],
   "source": [
    "type(fruites)"
   ]
  },
  {
   "cell_type": "code",
   "execution_count": 10,
   "id": "a3c83f6b-a296-4ba5-83e9-64828384af80",
   "metadata": {},
   "outputs": [
    {
     "data": {
      "text/plain": [
       "['apple', 'banana', 'cherry', 'mango', 'carrot', 'test']"
      ]
     },
     "execution_count": 10,
     "metadata": {},
     "output_type": "execute_result"
    }
   ],
   "source": [
    "# we can add number into fruit list\n",
    "fruites.append(\"test\")\n",
    "fruites"
   ]
  },
  {
   "cell_type": "code",
   "execution_count": 11,
   "id": "eef627a6-5046-4fd3-9ea9-40f12c2c1cdf",
   "metadata": {},
   "outputs": [
    {
     "data": {
      "text/plain": [
       "'test'"
      ]
     },
     "execution_count": 11,
     "metadata": {},
     "output_type": "execute_result"
    }
   ],
   "source": [
    "fruites[-1]"
   ]
  },
  {
   "cell_type": "code",
   "execution_count": 12,
   "id": "9cae00e3-a4ba-4c72-ab4e-bb537df14738",
   "metadata": {},
   "outputs": [
    {
     "data": {
      "text/plain": [
       "'carrot'"
      ]
     },
     "execution_count": 12,
     "metadata": {},
     "output_type": "execute_result"
    }
   ],
   "source": [
    "fruites[-2]"
   ]
  },
  {
   "cell_type": "code",
   "execution_count": 14,
   "id": "f97a45d0-de8a-4b7c-9863-2e6a40eef211",
   "metadata": {},
   "outputs": [
    {
     "data": {
      "text/plain": [
       "['apple', 'banana', 'cherry', 'mango', 'carrot', 'coconat']"
      ]
     },
     "execution_count": 14,
     "metadata": {},
     "output_type": "execute_result"
    }
   ],
   "source": [
    "# ------- veryimportant --------\n",
    "\"\"\"\n",
    "if we move from begining to the end of list, indexes start from zero to length - 1\n",
    "example:\n",
    "    fruites[0]\n",
    "    fruites[1]\n",
    "    fruites[2]\n",
    "    fruites[3]\n",
    "but if we move from end to the beginning og list. indexes start from -1\n",
    "example:\n",
    "    fruites[-1]\n",
    "    fruites[-2]\n",
    "    fruites[-3]\n",
    "    fruites[-4]\n",
    "\"\"\"\n",
    "\n",
    "fruites[-1] = \"coconat\"\n",
    "fruites\n"
   ]
  },
  {
   "cell_type": "code",
   "execution_count": 18,
   "id": "ca8abdc5-6258-4568-ba11-7865e1bb443f",
   "metadata": {},
   "outputs": [
    {
     "data": {
      "text/plain": [
       "['cucumber']"
      ]
     },
     "execution_count": 18,
     "metadata": {},
     "output_type": "execute_result"
    }
   ],
   "source": [
    "# new_fruites = []\n",
    "text = \"cucumber\"\n",
    "fruites = [text]\n",
    "fruites"
   ]
  },
  {
   "cell_type": "code",
   "execution_count": 19,
   "id": "e74db411-fe23-4eb4-b954-77bacb3f0aa4",
   "metadata": {},
   "outputs": [
    {
     "data": {
      "text/plain": [
       "['cucumber']"
      ]
     },
     "execution_count": 19,
     "metadata": {},
     "output_type": "execute_result"
    }
   ],
   "source": [
    "fruites"
   ]
  },
  {
   "cell_type": "code",
   "execution_count": 27,
   "id": "06bba5f6-679a-4206-a5ee-6dacb33ed3e9",
   "metadata": {},
   "outputs": [
    {
     "data": {
      "text/plain": [
       "[[0, 2, 4, 6, 8, 10],\n",
       " [1, 3, 5, 7, 9, 11],\n",
       " ['one', 'two', 'three', 'four', 'five', 'six']]"
      ]
     },
     "execution_count": 27,
     "metadata": {},
     "output_type": "execute_result"
    }
   ],
   "source": [
    "\"\"\"\n",
    "topic: nested list\n",
    "\"\"\"\n",
    "\n",
    "nested_list = [\n",
    "                [0,2,4,6,8,10],\n",
    "                [1,3,5,7,9,11],\n",
    "                [\"one\", \"two\", \"three\", \"four\", \"five\", \"six\" ],\n",
    "]\n",
    "nested_list"
   ]
  },
  {
   "cell_type": "code",
   "execution_count": 28,
   "id": "9f0c90ef-5943-40a5-8bf9-2685a785b570",
   "metadata": {},
   "outputs": [
    {
     "data": {
      "text/plain": [
       "[0, 2, 4, 6, 8, 10]"
      ]
     },
     "execution_count": 28,
     "metadata": {},
     "output_type": "execute_result"
    }
   ],
   "source": [
    "nested_list[0]"
   ]
  },
  {
   "cell_type": "code",
   "execution_count": 29,
   "id": "de48b374-b130-4001-91f2-b7c9d54a4c29",
   "metadata": {},
   "outputs": [
    {
     "data": {
      "text/plain": [
       "[1, 3, 5, 7, 9, 11]"
      ]
     },
     "execution_count": 29,
     "metadata": {},
     "output_type": "execute_result"
    }
   ],
   "source": [
    "nested_list[1]"
   ]
  },
  {
   "cell_type": "code",
   "execution_count": 30,
   "id": "761a6c87-fb5c-42a0-a3a6-1b7b91a840ae",
   "metadata": {},
   "outputs": [
    {
     "data": {
      "text/plain": [
       "['one', 'two', 'three', 'four', 'five', 'six']"
      ]
     },
     "execution_count": 30,
     "metadata": {},
     "output_type": "execute_result"
    }
   ],
   "source": [
    "nested_list[2]"
   ]
  },
  {
   "cell_type": "code",
   "execution_count": 31,
   "id": "c2312b18-e7cf-4ade-9308-a623d7cfbfb3",
   "metadata": {},
   "outputs": [
    {
     "data": {
      "text/plain": [
       "'six'"
      ]
     },
     "execution_count": 31,
     "metadata": {},
     "output_type": "execute_result"
    }
   ],
   "source": [
    "nested_list[2][-1]"
   ]
  },
  {
   "cell_type": "code",
   "execution_count": 33,
   "id": "895f9677-a528-4405-bb08-ee84eb56b7ab",
   "metadata": {},
   "outputs": [
    {
     "data": {
      "text/plain": [
       "[['nums', [0, 2, 4, 6, 8, 10], [1, 3, 5, 7, 9, 11]],\n",
       " ['alphabet',\n",
       "  ['zero', 'two', 'four', 'six', 'eight', 'ten'],\n",
       "  ['one', 'three', 'five', 'seven', 'nine', 'eleven']]]"
      ]
     },
     "execution_count": 33,
     "metadata": {},
     "output_type": "execute_result"
    }
   ],
   "source": [
    "other_nested_list = [\n",
    "                [\"nums\",\n",
    "                    [0,2,4,6,8,10],\n",
    "                    [1,3,5,7,9,11],\n",
    "                ],\n",
    "                [\"alphabet\",\n",
    "                    [\"zero\", \"two\", \"four\", \"six\", \"eight\", \"ten\" ],\n",
    "                    [\"one\", \"three\", \"five\", \"seven\", \"nine\", \"eleven\" ],\n",
    "                ],\n",
    "]\n",
    "\n",
    "other_nested_list"
   ]
  },
  {
   "cell_type": "code",
   "execution_count": 34,
   "id": "a18d6aee-1573-43c2-a5bc-829f8d20740b",
   "metadata": {},
   "outputs": [
    {
     "data": {
      "text/plain": [
       "['nums', [0, 2, 4, 6, 8, 10], [1, 3, 5, 7, 9, 11]]"
      ]
     },
     "execution_count": 34,
     "metadata": {},
     "output_type": "execute_result"
    }
   ],
   "source": [
    "other_nested_list[0]"
   ]
  },
  {
   "cell_type": "code",
   "execution_count": 36,
   "id": "e43d981c-bb3d-4f02-b347-3beed133bf14",
   "metadata": {},
   "outputs": [
    {
     "data": {
      "text/plain": [
       "6"
      ]
     },
     "execution_count": 36,
     "metadata": {},
     "output_type": "execute_result"
    }
   ],
   "source": [
    "other_nested_list[0][1][3]"
   ]
  },
  {
   "cell_type": "code",
   "execution_count": null,
   "id": "fbffc631-4f88-47d7-a22e-fc33b1662dc7",
   "metadata": {},
   "outputs": [],
   "source": []
  }
 ],
 "metadata": {
  "kernelspec": {
   "display_name": "Python 3 (ipykernel)",
   "language": "python",
   "name": "python3"
  },
  "language_info": {
   "codemirror_mode": {
    "name": "ipython",
    "version": 3
   },
   "file_extension": ".py",
   "mimetype": "text/x-python",
   "name": "python",
   "nbconvert_exporter": "python",
   "pygments_lexer": "ipython3",
   "version": "3.11.5"
  }
 },
 "nbformat": 4,
 "nbformat_minor": 5
}
