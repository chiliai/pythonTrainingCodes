{
 "cells": [
  {
   "cell_type": "code",
   "execution_count": 6,
   "id": "62c4ffcb-bb85-46b6-88d7-c462dad80bd3",
   "metadata": {},
   "outputs": [
    {
     "name": "stdout",
     "output_type": "stream",
     "text": [
      "items are:\n",
      "\n",
      "0\n",
      "1\n",
      "2\n",
      "3\n",
      "4\n",
      "sum of number 10\n"
     ]
    }
   ],
   "source": [
    "sum  = 0\n",
    "total = 5\n",
    "print(\"items are:\\n\")\n",
    "for item in range(total):\n",
    "    print(item)\n",
    "    sum += item\n",
    "print(\"sum of number {}\".format(sum))\n",
    "    "
   ]
  },
  {
   "cell_type": "code",
   "execution_count": 13,
   "id": "db974341-4b2c-4cd4-b809-9cce786676fa",
   "metadata": {},
   "outputs": [],
   "source": [
    "users = {\n",
    "    \"1\": {\n",
    "    \"id\": 10,\n",
    "    \"full_name\": \"one\",\n",
    "    \"national_id\": \"138\",\n",
    "    },\n",
    "    \"2\": {\n",
    "    \"id\": 11,\n",
    "    \"full_name\": \"two\",\n",
    "    \"national_id\": \"196\",\n",
    "    },\n",
    "    \"3\": {\n",
    "    \"id\": 12,\n",
    "    \"full_name\": \"three\",\n",
    "    \"national_id\": \"249\",\n",
    "    },\n",
    "}"
   ]
  },
  {
   "cell_type": "code",
   "execution_count": 15,
   "id": "732965db-5a99-4417-bdfa-656563858594",
   "metadata": {},
   "outputs": [
    {
     "name": "stdout",
     "output_type": "stream",
     "text": [
      "user 1: \n",
      "id: 10 ,full_name: one ,national_id:138\n",
      "user 2: \n",
      "id: 11 ,full_name: two ,national_id:196\n",
      "user 3: \n",
      "id: 12 ,full_name: three ,national_id:249\n"
     ]
    }
   ],
   "source": [
    "for item in users:\n",
    "    print(\"user {}\".format(item) + \": \")\n",
    "    print(\"id: {} ,full_name: {} ,national_id:{}\".format( users[item][\"id\"], users[item][\"full_name\"], users[item][\"national_id\"]))"
   ]
  },
  {
   "cell_type": "code",
   "execution_count": 16,
   "id": "99528dda-f85f-4dd6-9884-c5295a82f7ee",
   "metadata": {},
   "outputs": [
    {
     "name": "stdout",
     "output_type": "stream",
     "text": [
      "s\n",
      "o\n",
      "m\n",
      "e\n",
      "t\n",
      "h\n",
      "i\n",
      "n\n",
      "g\n"
     ]
    }
   ],
   "source": [
    "text = \"something\"\n",
    "for char in text:\n",
    "    print(char)"
   ]
  },
  {
   "cell_type": "code",
   "execution_count": 18,
   "id": "3eb93243-f840-44f6-9913-b32c197d6ea4",
   "metadata": {},
   "outputs": [
    {
     "name": "stdout",
     "output_type": "stream",
     "text": [
      "[0, 2, 4, 6, 8, 10, 12, 14, 16, 18]\n",
      "[1, 3, 5, 7, 9, 11, 13, 15, 17, 19]\n"
     ]
    }
   ],
   "source": [
    "nums_even = []\n",
    "nums_odd = []\n",
    "total = 20\n",
    "for i in range(total):\n",
    "    if i % 2 == 0:\n",
    "        nums_even.append(i)\n",
    "    else:\n",
    "        nums_odd.append(i)\n",
    "        \n",
    "print(nums_even)\n",
    "print(nums_odd)"
   ]
  },
  {
   "cell_type": "code",
   "execution_count": 20,
   "id": "5f575531-50c2-4d03-a43c-b9e3936b16c7",
   "metadata": {},
   "outputs": [
    {
     "data": {
      "text/plain": [
       "10"
      ]
     },
     "execution_count": 20,
     "metadata": {},
     "output_type": "execute_result"
    }
   ],
   "source": [
    "len(nums_even)\n",
    "len(nums_odd)"
   ]
  },
  {
   "cell_type": "code",
   "execution_count": 27,
   "id": "022b80e6-3315-4f26-bd71-f52d3cb248f9",
   "metadata": {},
   "outputs": [
    {
     "name": "stdout",
     "output_type": "stream",
     "text": [
      "sum of even numbers: 90\n",
      "sum of odd numbers: 100\n"
     ]
    }
   ],
   "source": [
    "sum_even = 0\n",
    "sum_odd = 0\n",
    "for i in range(len(nums_even)):\n",
    "    sum_even += int(nums_even[i])\n",
    "\n",
    "for i in range(len(nums_odd)):\n",
    "    sum_odd += int(nums_odd[i])\n",
    "\n",
    "print(\"sum of even numbers: {}\".format(sum_even))\n",
    "print(\"sum of odd numbers: {}\".format(sum_odd))"
   ]
  },
  {
   "cell_type": "code",
   "execution_count": 53,
   "id": "53c69a49-6f7c-467c-b9de-71ec519f7e0b",
   "metadata": {},
   "outputs": [
    {
     "name": "stdout",
     "output_type": "stream",
     "text": [
      "*\n",
      "**\n",
      "***\n",
      "****\n",
      "*****\n",
      "******\n",
      "*******\n",
      "********\n",
      "*********\n",
      "**********\n",
      "**********\n",
      "*********\n",
      "********\n",
      "*******\n",
      "******\n",
      "*****\n",
      "****\n",
      "***\n",
      "**\n",
      "*\n"
     ]
    }
   ],
   "source": [
    "lst_nums = [1,2,3,4,5,6,7,8,9,10]\n",
    "for i in lst_nums:\n",
    "    print(i*\"*\")\n",
    "\n",
    "lst_nums.sort(reverse=True)\n",
    "# lst_nums\n",
    "for j in lst_nums:\n",
    "    print(j*\"*\")"
   ]
  },
  {
   "cell_type": "code",
   "execution_count": 128,
   "id": "37e5f730-ee02-4608-8072-7de3756f6ca8",
   "metadata": {},
   "outputs": [
    {
     "name": "stdout",
     "output_type": "stream",
     "text": [
      "[1, 2, 3, 4, 5, 6, 7, 8, 9, 10, 11, 12, 13, 14]\n",
      "len: 14\n",
      "sum: 56\n"
     ]
    }
   ],
   "source": [
    "# sum of  even number betwen 1 to 1000\n",
    "list_numbers_even = list(range(1, 15))\n",
    "print(list_numbers_even)\n",
    "print(\"len: {}\".format(len(list_numbers_even)))\n",
    "big_sum_even = 0\n",
    "for i in list_numbers_even:\n",
    "    # print(i)\n",
    "    if i % 2 == 0:\n",
    "        big_sum_even += i\n",
    "print(\"sum: {}\".format(big_sum_even))"
   ]
  },
  {
   "cell_type": "code",
   "execution_count": 106,
   "id": "de401f20-d350-43aa-80fc-1cbbec195477",
   "metadata": {},
   "outputs": [
    {
     "name": "stdout",
     "output_type": "stream",
     "text": [
      "[1, 2, 3, 4, 5, 6, 7, 8, 9, 10, 11, 12, 13, 14]\n",
      "len: 14\n",
      "sum: 49\n"
     ]
    }
   ],
   "source": [
    "# sum of  odd number betwen 1 to 1000\n",
    "list_numbers_odd = list(range(1, 15))\n",
    "print(list_numbers_odd)\n",
    "print(\"len: {}\".format(len(list_numbers_odd)))\n",
    "big_sum_odd = 0\n",
    "for i in list_numbers_odd:\n",
    "    # print(i)\n",
    "    if i % 2 != 0:\n",
    "        big_sum_odd += i\n",
    "print(\"sum: {}\".format(big_sum_odd))"
   ]
  },
  {
   "cell_type": "code",
   "execution_count": null,
   "id": "374e18a6-5c25-43b4-8466-045eefeadcf5",
   "metadata": {},
   "outputs": [],
   "source": []
  }
 ],
 "metadata": {
  "kernelspec": {
   "display_name": "Python 3 (ipykernel)",
   "language": "python",
   "name": "python3"
  },
  "language_info": {
   "codemirror_mode": {
    "name": "ipython",
    "version": 3
   },
   "file_extension": ".py",
   "mimetype": "text/x-python",
   "name": "python",
   "nbconvert_exporter": "python",
   "pygments_lexer": "ipython3",
   "version": "3.11.2"
  }
 },
 "nbformat": 4,
 "nbformat_minor": 5
}
