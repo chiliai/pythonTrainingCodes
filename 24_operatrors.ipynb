{
 "cells": [
  {
   "cell_type": "code",
   "execution_count": 8,
   "id": "91d4b758-4436-4dba-9fc3-f93648dd1e60",
   "metadata": {},
   "outputs": [
    {
     "name": "stdout",
     "output_type": "stream",
     "text": [
      "and logizal operators\n",
      "or logizal operators\n",
      "b variable: not logical operators\n"
     ]
    }
   ],
   "source": [
    "#Logical Operators\n",
    "\n",
    "# and , or , not\n",
    "\n",
    "a = True\n",
    "b = False\n",
    "if a ==True and b ==False:\n",
    "    print(\"and logizal operators\")\n",
    "\n",
    "if a == False or b == False:\n",
    "    print(\"or logizal operators\")\n",
    "\n",
    "if a != True:\n",
    "    print(\"a variable: not logical operators\")\n",
    "\n",
    "if b != True:\n",
    "    print(\"b variable: not logical operators\")"
   ]
  },
  {
   "cell_type": "code",
   "execution_count": 9,
   "id": "48580a5e-20e2-4089-a585-f88b0c1a6a7c",
   "metadata": {},
   "outputs": [
    {
     "data": {
      "text/plain": [
       "False"
      ]
     },
     "execution_count": 9,
     "metadata": {},
     "output_type": "execute_result"
    }
   ],
   "source": [
    "not True"
   ]
  },
  {
   "cell_type": "code",
   "execution_count": 10,
   "id": "05460da7-d939-47ca-8443-cc2f920bcf99",
   "metadata": {},
   "outputs": [
    {
     "data": {
      "text/plain": [
       "True"
      ]
     },
     "execution_count": 10,
     "metadata": {},
     "output_type": "execute_result"
    }
   ],
   "source": [
    "not False"
   ]
  },
  {
   "cell_type": "code",
   "execution_count": 18,
   "id": "7af7d267-b143-4df0-a1eb-63e565e80dbd",
   "metadata": {},
   "outputs": [],
   "source": [
    "# identity operators\n",
    "\n",
    "#is , is not"
   ]
  },
  {
   "cell_type": "code",
   "execution_count": 12,
   "id": "5e82c6f4-2f9c-4f82-84c2-31c5feddef3a",
   "metadata": {},
   "outputs": [],
   "source": [
    "lst_01 = [1,2,3]\n",
    "lst_02 = [1,2,3]"
   ]
  },
  {
   "cell_type": "code",
   "execution_count": 13,
   "id": "63825077-0480-48f1-b26f-4a846823962d",
   "metadata": {},
   "outputs": [
    {
     "data": {
      "text/plain": [
       "False"
      ]
     },
     "execution_count": 13,
     "metadata": {},
     "output_type": "execute_result"
    }
   ],
   "source": [
    "lst_01 is lst_02"
   ]
  },
  {
   "cell_type": "code",
   "execution_count": 14,
   "id": "4f834e59-0709-47ed-8f20-6c0b3e5f1eb1",
   "metadata": {},
   "outputs": [
    {
     "data": {
      "text/plain": [
       "True"
      ]
     },
     "execution_count": 14,
     "metadata": {},
     "output_type": "execute_result"
    }
   ],
   "source": [
    "lst_01 == lst_02"
   ]
  },
  {
   "cell_type": "code",
   "execution_count": 15,
   "id": "e15c13de-2077-40f9-93d7-0780758acf3c",
   "metadata": {},
   "outputs": [
    {
     "data": {
      "text/plain": [
       "True"
      ]
     },
     "execution_count": 15,
     "metadata": {},
     "output_type": "execute_result"
    }
   ],
   "source": [
    "lst_01 is not lst_02"
   ]
  },
  {
   "cell_type": "code",
   "execution_count": 16,
   "id": "1b2d1f14-cb17-4700-9b37-03f68420b128",
   "metadata": {},
   "outputs": [
    {
     "data": {
      "text/plain": [
       "True"
      ]
     },
     "execution_count": 16,
     "metadata": {},
     "output_type": "execute_result"
    }
   ],
   "source": [
    "type(1) is int"
   ]
  },
  {
   "cell_type": "code",
   "execution_count": 17,
   "id": "bd783f5e-cb7c-44fa-afb8-f53920f41b1e",
   "metadata": {},
   "outputs": [],
   "source": [
    "# membership operators"
   ]
  },
  {
   "cell_type": "code",
   "execution_count": 19,
   "id": "6cc66b9c-0a5d-490d-bfcc-ea9aca67e4bb",
   "metadata": {},
   "outputs": [],
   "source": [
    "# in , not in"
   ]
  },
  {
   "cell_type": "code",
   "execution_count": 20,
   "id": "5b66cec0-b255-49d3-98d6-ca089579abd4",
   "metadata": {},
   "outputs": [
    {
     "data": {
      "text/plain": [
       "True"
      ]
     },
     "execution_count": 20,
     "metadata": {},
     "output_type": "execute_result"
    }
   ],
   "source": [
    "name = \"configuration\"\n",
    "res = \"a\" in name\n",
    "res"
   ]
  },
  {
   "cell_type": "code",
   "execution_count": 21,
   "id": "b3fa64f9-a774-469a-8740-063a44c2c5d2",
   "metadata": {},
   "outputs": [
    {
     "data": {
      "text/plain": [
       "False"
      ]
     },
     "execution_count": 21,
     "metadata": {},
     "output_type": "execute_result"
    }
   ],
   "source": [
    "\"A\" in name"
   ]
  },
  {
   "cell_type": "code",
   "execution_count": 22,
   "id": "6b0adbee-db40-4401-a9c3-04a3289ce01e",
   "metadata": {},
   "outputs": [
    {
     "data": {
      "text/plain": [
       "True"
      ]
     },
     "execution_count": 22,
     "metadata": {},
     "output_type": "execute_result"
    }
   ],
   "source": [
    "\"A\" not in name"
   ]
  },
  {
   "cell_type": "code",
   "execution_count": 23,
   "id": "76695874-fc7f-4c25-bad2-267ef2d8dfb9",
   "metadata": {},
   "outputs": [
    {
     "data": {
      "text/plain": [
       "True"
      ]
     },
     "execution_count": 23,
     "metadata": {},
     "output_type": "execute_result"
    }
   ],
   "source": [
    "numbers = (1,2,3,4,5,6)\n",
    "num = 2\n",
    "result = num in numbers\n",
    "result"
   ]
  },
  {
   "cell_type": "code",
   "execution_count": 24,
   "id": "37d8842f-6539-419e-946d-9efcf9c536ad",
   "metadata": {},
   "outputs": [],
   "source": [
    "info = {\n",
    "    \"name\": \"melisa\",\n",
    "    \"age\": \"25\",\n",
    "    \"national_id\": \"3214\",\n",
    "    }"
   ]
  },
  {
   "cell_type": "code",
   "execution_count": 25,
   "id": "27b1d5c0-3171-4667-b091-ac2ae93d0ff1",
   "metadata": {},
   "outputs": [
    {
     "data": {
      "text/plain": [
       "True"
      ]
     },
     "execution_count": 25,
     "metadata": {},
     "output_type": "execute_result"
    }
   ],
   "source": [
    "\"name\" in info"
   ]
  },
  {
   "cell_type": "code",
   "execution_count": 26,
   "id": "e02e54e3-413d-4fe7-bada-d33d8f1687cd",
   "metadata": {},
   "outputs": [
    {
     "data": {
      "text/plain": [
       "False"
      ]
     },
     "execution_count": 26,
     "metadata": {},
     "output_type": "execute_result"
    }
   ],
   "source": [
    "\"25\" in info"
   ]
  },
  {
   "cell_type": "code",
   "execution_count": null,
   "id": "9404593d-1ba6-47e1-8c16-ebf7d19c478e",
   "metadata": {},
   "outputs": [],
   "source": []
  }
 ],
 "metadata": {
  "kernelspec": {
   "display_name": "Python 3 (ipykernel)",
   "language": "python",
   "name": "python3"
  },
  "language_info": {
   "codemirror_mode": {
    "name": "ipython",
    "version": 3
   },
   "file_extension": ".py",
   "mimetype": "text/x-python",
   "name": "python",
   "nbconvert_exporter": "python",
   "pygments_lexer": "ipython3",
   "version": "3.11.5"
  }
 },
 "nbformat": 4,
 "nbformat_minor": 5
}
