{
 "cells": [
  {
   "cell_type": "code",
   "execution_count": null,
   "id": "b7a883ea-ef1b-4e0f-b095-eb6ecfcca6e7",
   "metadata": {},
   "outputs": [],
   "source": [
    "# test"
   ]
  },
  {
   "cell_type": "code",
   "execution_count": 1,
   "id": "28429cd4-d773-480b-9dc0-d839dd5a939b",
   "metadata": {},
   "outputs": [
    {
     "data": {
      "text/plain": [
       "'0b1010'"
      ]
     },
     "execution_count": 1,
     "metadata": {},
     "output_type": "execute_result"
    }
   ],
   "source": [
    "bin(10)"
   ]
  },
  {
   "cell_type": "code",
   "execution_count": 2,
   "id": "027306f8-e314-4c3b-bb7a-09532e11142a",
   "metadata": {},
   "outputs": [],
   "source": [
    "### 00001010\n",
    "### each of these numbers is considered a bit\n",
    "# 8 bit = 1 byte\n",
    "\n",
    "#     1          1          0          0          1          0          1          0\n",
    "#    2**7       2**6       2**5       2**4       2**3      2**2       2**1       2**0\n",
    "#     128        64         0          0          8          0          2          0\n",
    "\n",
    "# or another way\n",
    "\n",
    "# 202\n",
    "#     128     64     32     16     8     4     2     0\n",
    "#      1       1     0      0      1     0     1     0\n",
    "\n",
    "\n",
    "# 10\n",
    "#     128     64     32     16     8     4     2     0\n",
    "#      0       0     0      0      1     0     1     0\n"
   ]
  },
  {
   "cell_type": "code",
   "execution_count": 5,
   "id": "a7ba827f-1995-41ee-8081-672e6fd85784",
   "metadata": {},
   "outputs": [
    {
     "data": {
      "text/plain": [
       "202"
      ]
     },
     "execution_count": 5,
     "metadata": {},
     "output_type": "execute_result"
    }
   ],
   "source": [
    "# for convert binary to integer in python\n",
    "int(\"11001010\", 2)"
   ]
  },
  {
   "cell_type": "code",
   "execution_count": 6,
   "id": "df3d95e3-e34a-43d2-9a8f-cfaf614f4002",
   "metadata": {},
   "outputs": [
    {
     "data": {
      "text/plain": [
       "10"
      ]
     },
     "execution_count": 6,
     "metadata": {},
     "output_type": "execute_result"
    }
   ],
   "source": [
    "# for convert binary to integer in python\n",
    "int(\"00001010\", 2)"
   ]
  },
  {
   "cell_type": "code",
   "execution_count": 7,
   "id": "40db908c-079f-4fab-a73c-19e5c918b5a8",
   "metadata": {},
   "outputs": [],
   "source": [
    "# bitwise operation\n",
    "# AND = &\n",
    "# OR = |\n",
    "# XOR = ^\n",
    "# SHIFT RIGHT =  >>\n",
    "# SHIFT LEFT = <<"
   ]
  },
  {
   "cell_type": "code",
   "execution_count": 8,
   "id": "3f6126d3-2371-4e54-9730-be27b7ae796b",
   "metadata": {},
   "outputs": [
    {
     "data": {
      "text/plain": [
       "1"
      ]
     },
     "execution_count": 8,
     "metadata": {},
     "output_type": "execute_result"
    }
   ],
   "source": [
    "5 & 3"
   ]
  },
  {
   "cell_type": "code",
   "execution_count": 9,
   "id": "4ff23430-714e-4348-9f1a-f0cae4dd52ef",
   "metadata": {},
   "outputs": [
    {
     "data": {
      "text/plain": [
       "'101'"
      ]
     },
     "execution_count": 9,
     "metadata": {},
     "output_type": "execute_result"
    }
   ],
   "source": [
    "bin(5)[2:]"
   ]
  },
  {
   "cell_type": "code",
   "execution_count": 10,
   "id": "b9177013-803a-4c96-aa68-97a57956703d",
   "metadata": {},
   "outputs": [
    {
     "data": {
      "text/plain": [
       "'11'"
      ]
     },
     "execution_count": 10,
     "metadata": {},
     "output_type": "execute_result"
    }
   ],
   "source": [
    "bin(3)[2:]"
   ]
  },
  {
   "cell_type": "code",
   "execution_count": 13,
   "id": "c14e5dbd-c621-49e0-be73-d190e96798de",
   "metadata": {},
   "outputs": [
    {
     "data": {
      "text/plain": [
       "1"
      ]
     },
     "execution_count": 13,
     "metadata": {},
     "output_type": "execute_result"
    }
   ],
   "source": [
    "101 & 11\n",
    "# 00000101\n",
    "# 00000011\n",
    "# ---------\n",
    "# 00000001"
   ]
  },
  {
   "cell_type": "code",
   "execution_count": 14,
   "id": "0bfda726-2cb9-40df-bcf9-17b5c657a9cc",
   "metadata": {},
   "outputs": [
    {
     "data": {
      "text/plain": [
       "7"
      ]
     },
     "execution_count": 14,
     "metadata": {},
     "output_type": "execute_result"
    }
   ],
   "source": [
    "5 | 3"
   ]
  },
  {
   "cell_type": "code",
   "execution_count": 15,
   "id": "0a62b1bc-88e2-4a8b-9bd2-4d226a0f0843",
   "metadata": {},
   "outputs": [
    {
     "data": {
      "text/plain": [
       "111"
      ]
     },
     "execution_count": 15,
     "metadata": {},
     "output_type": "execute_result"
    }
   ],
   "source": [
    "101 | 11\n",
    "# 00000101\n",
    "# 00000011\n",
    "# ---------\n",
    "# 00000111\n",
    "\n",
    "#     128     64     32     16     8     4     2     0\n",
    "#      0       0     0      0      0     1     1     1"
   ]
  },
  {
   "cell_type": "code",
   "execution_count": 16,
   "id": "bbfe3a13-438c-434c-9b19-91bab9a98c25",
   "metadata": {},
   "outputs": [
    {
     "data": {
      "text/plain": [
       "6"
      ]
     },
     "execution_count": 16,
     "metadata": {},
     "output_type": "execute_result"
    }
   ],
   "source": [
    "5 ^ 3"
   ]
  },
  {
   "cell_type": "code",
   "execution_count": 18,
   "id": "5d858659-0022-4f97-82b0-da5739130976",
   "metadata": {},
   "outputs": [
    {
     "data": {
      "text/plain": [
       "110"
      ]
     },
     "execution_count": 18,
     "metadata": {},
     "output_type": "execute_result"
    }
   ],
   "source": [
    "101 ^ 11\n",
    "# 00000101\n",
    "# 00000011\n",
    "# ---------\n",
    "# 00000110"
   ]
  },
  {
   "cell_type": "code",
   "execution_count": 20,
   "id": "ae01912c-8b5a-4c48-bec6-3a9281e9f8a7",
   "metadata": {},
   "outputs": [
    {
     "data": {
      "text/plain": [
       "'110'"
      ]
     },
     "execution_count": 20,
     "metadata": {},
     "output_type": "execute_result"
    }
   ],
   "source": [
    "bin(6)[2:]"
   ]
  },
  {
   "cell_type": "code",
   "execution_count": 24,
   "id": "df2a1e0b-8d54-4614-a750-36993a4ebc36",
   "metadata": {},
   "outputs": [
    {
     "data": {
      "text/plain": [
       "3"
      ]
     },
     "execution_count": 24,
     "metadata": {},
     "output_type": "execute_result"
    }
   ],
   "source": [
    "6 >> 1\n",
    "# main:   00000110\n",
    "# result: 00000011 "
   ]
  },
  {
   "cell_type": "code",
   "execution_count": 25,
   "id": "6f578fd0-55da-4220-b2c6-c8c1b56e0594",
   "metadata": {},
   "outputs": [
    {
     "data": {
      "text/plain": [
       "12"
      ]
     },
     "execution_count": 25,
     "metadata": {},
     "output_type": "execute_result"
    }
   ],
   "source": [
    "6 << 1\n",
    "# main:   00000110\n",
    "# result: 00001100 "
   ]
  },
  {
   "cell_type": "code",
   "execution_count": null,
   "id": "eac0c4fe-3c07-4334-8fae-b92a12cbfe8e",
   "metadata": {},
   "outputs": [],
   "source": []
  }
 ],
 "metadata": {
  "kernelspec": {
   "display_name": "Python 3 (ipykernel)",
   "language": "python",
   "name": "python3"
  },
  "language_info": {
   "codemirror_mode": {
    "name": "ipython",
    "version": 3
   },
   "file_extension": ".py",
   "mimetype": "text/x-python",
   "name": "python",
   "nbconvert_exporter": "python",
   "pygments_lexer": "ipython3",
   "version": "3.12.4"
  }
 },
 "nbformat": 4,
 "nbformat_minor": 5
}
