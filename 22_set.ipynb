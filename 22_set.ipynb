{
 "cells": [
  {
   "cell_type": "code",
   "execution_count": 3,
   "id": "a2e25c2f-55a0-4696-bfcd-e335184283be",
   "metadata": {},
   "outputs": [
    {
     "data": {
      "text/plain": [
       "set()"
      ]
     },
     "execution_count": 3,
     "metadata": {},
     "output_type": "execute_result"
    }
   ],
   "source": [
    "# list []\n",
    "# dictionary {} , have  key: value\n",
    "# tuple ()\n",
    "# set {} , values like list and tuple\n",
    "\n",
    "set()"
   ]
  },
  {
   "cell_type": "code",
   "execution_count": 4,
   "id": "34dd8279-db2a-4415-983c-cbb91e090d4a",
   "metadata": {},
   "outputs": [
    {
     "data": {
      "text/plain": [
       "dict"
      ]
     },
     "execution_count": 4,
     "metadata": {},
     "output_type": "execute_result"
    }
   ],
   "source": [
    "my_var = {}\n",
    "type(my_var)"
   ]
  },
  {
   "cell_type": "code",
   "execution_count": 5,
   "id": "2700623c-cd5e-46e9-8b38-9ff3b25ea2c8",
   "metadata": {},
   "outputs": [
    {
     "data": {
      "text/plain": [
       "set"
      ]
     },
     "execution_count": 5,
     "metadata": {},
     "output_type": "execute_result"
    }
   ],
   "source": [
    "set_01 = {1,2,23,8,5,9,4}\n",
    "type(set_01)"
   ]
  },
  {
   "cell_type": "code",
   "execution_count": 6,
   "id": "43d7f30b-1f24-4f4c-b7da-7f3bba1b7712",
   "metadata": {},
   "outputs": [
    {
     "data": {
      "text/plain": [
       "{1, 2, 4, 5, 8, 9, 23}"
      ]
     },
     "execution_count": 6,
     "metadata": {},
     "output_type": "execute_result"
    }
   ],
   "source": [
    "set_01"
   ]
  },
  {
   "cell_type": "code",
   "execution_count": 8,
   "id": "f79e5c32-c853-406b-bf1b-5eb1bf3833dc",
   "metadata": {},
   "outputs": [
    {
     "data": {
      "text/plain": [
       "{1, 3, 4, 5, 6, 7, 9, 85}"
      ]
     },
     "execution_count": 8,
     "metadata": {},
     "output_type": "execute_result"
    }
   ],
   "source": [
    "set_02 = {1,85,6,4,5,4,1,3,9,7}\n",
    "set_02\n",
    "# automaticaly delete same value and sort values"
   ]
  },
  {
   "cell_type": "code",
   "execution_count": 10,
   "id": "d61dd716-f8c9-426d-b31a-680fdd57d672",
   "metadata": {},
   "outputs": [
    {
     "data": {
      "text/plain": [
       "{'a', 'e', 'g', 'k', 'r', 's', 'v'}"
      ]
     },
     "execution_count": 10,
     "metadata": {},
     "output_type": "execute_result"
    }
   ],
   "source": [
    "set_03 = {'a', 's', 'r', 'g', 'k', 'r', 'v', 'e', 'a', 's'}\n",
    "set_03\n",
    "# automaticaly delete same value and sort values"
   ]
  },
  {
   "cell_type": "code",
   "execution_count": 12,
   "id": "873a3d4d-885b-49f1-a2c2-b06e014459ae",
   "metadata": {},
   "outputs": [
    {
     "data": {
      "text/plain": [
       "{'another', 'exception', 'google', 'key', 'rain', 'some', 'value'}"
      ]
     },
     "execution_count": 12,
     "metadata": {},
     "output_type": "execute_result"
    }
   ],
   "source": [
    "set_03 = {'another', 'some', 'rain', 'google', 'key', 'rain', 'value', 'exception', 'another', 'some'}\n",
    "set_03"
   ]
  },
  {
   "cell_type": "code",
   "execution_count": 13,
   "id": "1ad26940-ed81-4252-b169-197d39e4aac0",
   "metadata": {},
   "outputs": [],
   "source": [
    "set_04 = {'another', 5, 'rain', 'google', 'key', 68, 'value', '74', 'another', 'some'}"
   ]
  },
  {
   "cell_type": "code",
   "execution_count": 15,
   "id": "6627028a-6d7b-41d5-92d2-688a2facb1f1",
   "metadata": {},
   "outputs": [
    {
     "data": {
      "text/plain": [
       "9"
      ]
     },
     "execution_count": 15,
     "metadata": {},
     "output_type": "execute_result"
    }
   ],
   "source": [
    "len(set_04)"
   ]
  },
  {
   "cell_type": "code",
   "execution_count": 16,
   "id": "261cfa33-c2dc-4d09-9245-8dcb78bc3eb0",
   "metadata": {},
   "outputs": [
    {
     "name": "stdout",
     "output_type": "stream",
     "text": [
      "68\n",
      "5\n",
      "value\n",
      "some\n",
      "google\n",
      "another\n",
      "74\n",
      "key\n",
      "rain\n"
     ]
    }
   ],
   "source": [
    "for item in set_04:\n",
    "    print(item)"
   ]
  },
  {
   "cell_type": "code",
   "execution_count": 17,
   "id": "433e5387-d9a6-4228-b030-4a54610a7b1a",
   "metadata": {},
   "outputs": [
    {
     "data": {
      "text/plain": [
       "True"
      ]
     },
     "execution_count": 17,
     "metadata": {},
     "output_type": "execute_result"
    }
   ],
   "source": [
    "5 in set_04"
   ]
  },
  {
   "cell_type": "code",
   "execution_count": 18,
   "id": "1b2da3cf-b16c-424c-b37a-2ad201ac22ee",
   "metadata": {},
   "outputs": [
    {
     "data": {
      "text/plain": [
       "False"
      ]
     },
     "execution_count": 18,
     "metadata": {},
     "output_type": "execute_result"
    }
   ],
   "source": [
    "res_seek = \"apple\" in set_04\n",
    "res_seek"
   ]
  },
  {
   "cell_type": "code",
   "execution_count": 19,
   "id": "431e3c34-455b-46a7-9eb5-96730900dcd4",
   "metadata": {},
   "outputs": [
    {
     "data": {
      "text/plain": [
       "{5, 68, '74', '8647', 'another', 'google', 'key', 'rain', 'some', 'value'}"
      ]
     },
     "execution_count": 19,
     "metadata": {},
     "output_type": "execute_result"
    }
   ],
   "source": [
    "set_04.add(\"8647\")\n",
    "set_04"
   ]
  },
  {
   "cell_type": "code",
   "execution_count": 22,
   "id": "5ab20ac4-f1bd-42b4-b403-e940df3875e7",
   "metadata": {},
   "outputs": [],
   "source": [
    "set_a = {1,2,3,4,5}\n",
    "set_b = {1,2,5,7,8}"
   ]
  },
  {
   "cell_type": "code",
   "execution_count": 23,
   "id": "11c82079-41fa-491a-be2a-527bb9adb6e9",
   "metadata": {},
   "outputs": [
    {
     "data": {
      "text/plain": [
       "{1, 2, 3, 4, 5, 7, 8}"
      ]
     },
     "execution_count": 23,
     "metadata": {},
     "output_type": "execute_result"
    }
   ],
   "source": [
    "set_a.update(set_b)\n",
    "set_a"
   ]
  },
  {
   "cell_type": "code",
   "execution_count": 24,
   "id": "d1cd9cc9-c750-4cdc-8bc8-75a020fc1a05",
   "metadata": {},
   "outputs": [
    {
     "data": {
      "text/plain": [
       "True"
      ]
     },
     "execution_count": 24,
     "metadata": {},
     "output_type": "execute_result"
    }
   ],
   "source": [
    "set_b.issubset(set_a)"
   ]
  },
  {
   "cell_type": "code",
   "execution_count": 25,
   "id": "c25937cc-4b0d-42e4-b91b-047e4ffc2ee7",
   "metadata": {},
   "outputs": [
    {
     "data": {
      "text/plain": [
       "True"
      ]
     },
     "execution_count": 25,
     "metadata": {},
     "output_type": "execute_result"
    }
   ],
   "source": [
    "set_a.issuperset(set_b)"
   ]
  },
  {
   "cell_type": "code",
   "execution_count": 26,
   "id": "392889e1-017e-4883-811b-a71081a8126d",
   "metadata": {},
   "outputs": [
    {
     "data": {
      "text/plain": [
       "False"
      ]
     },
     "execution_count": 26,
     "metadata": {},
     "output_type": "execute_result"
    }
   ],
   "source": [
    "set_b.issuperset(set_a)"
   ]
  },
  {
   "cell_type": "code",
   "execution_count": 27,
   "id": "0f1a5f89-cd9a-4b62-b6c4-1720fa08f19f",
   "metadata": {},
   "outputs": [
    {
     "data": {
      "text/plain": [
       "{1, 2, 3, 5, 7, 8}"
      ]
     },
     "execution_count": 27,
     "metadata": {},
     "output_type": "execute_result"
    }
   ],
   "source": [
    "set_a.remove(4)\n",
    "set_a"
   ]
  },
  {
   "cell_type": "code",
   "execution_count": 29,
   "id": "7c053bf8-9145-488e-a22e-ab441c3fd553",
   "metadata": {},
   "outputs": [],
   "source": [
    "# set_a.clear()\n",
    "set_a.discard(4) # remove item but if any value don't show error"
   ]
  },
  {
   "cell_type": "code",
   "execution_count": 31,
   "id": "5bef0403-5c67-47ba-87e5-6786c300eb49",
   "metadata": {},
   "outputs": [],
   "source": [
    "set_a = {1,2,3,4,5, \"frog\", \"help\"}\n",
    "set_b = {1,2,5,7,8, \"call\"}"
   ]
  },
  {
   "cell_type": "code",
   "execution_count": 34,
   "id": "02383f48-e229-4894-8995-664f144ecfeb",
   "metadata": {},
   "outputs": [
    {
     "data": {
      "text/plain": [
       "{1, 2, 3, 4, 5, 7, 8, 'call', 'frog', 'help'}"
      ]
     },
     "execution_count": 34,
     "metadata": {},
     "output_type": "execute_result"
    }
   ],
   "source": [
    "res_union = set_a.union(set_b) # اجتماع\n",
    "res_union"
   ]
  },
  {
   "cell_type": "code",
   "execution_count": 35,
   "id": "9a1a07f4-f7ed-4bd2-9197-158462f8e965",
   "metadata": {},
   "outputs": [
    {
     "data": {
      "text/plain": [
       "{1, 2, 5}"
      ]
     },
     "execution_count": 35,
     "metadata": {},
     "output_type": "execute_result"
    }
   ],
   "source": [
    "res_inter = set_a.intersection(set_b) # اشتراک\n",
    "res_inter"
   ]
  },
  {
   "cell_type": "code",
   "execution_count": 37,
   "id": "b6ad47fb-cfce-40da-a1fd-75b007f6bfcd",
   "metadata": {},
   "outputs": [
    {
     "data": {
      "text/plain": [
       "{1, 2, 5}"
      ]
     },
     "execution_count": 37,
     "metadata": {},
     "output_type": "execute_result"
    }
   ],
   "source": [
    "set_a.intersection_update(set_b)\n",
    "set_a"
   ]
  },
  {
   "cell_type": "code",
   "execution_count": 38,
   "id": "08f1a66b-4cbf-4f76-bd53-824402f5b60e",
   "metadata": {},
   "outputs": [],
   "source": [
    "set_a = {1,2,3,4,5, \"frog\", \"help\"}\n",
    "set_b = {1,2,5,7,8, \"call\"}"
   ]
  },
  {
   "cell_type": "code",
   "execution_count": 40,
   "id": "4e708659-69ea-4f7e-9eca-6591e9106cdc",
   "metadata": {},
   "outputs": [
    {
     "data": {
      "text/plain": [
       "{3, 4, 7, 8, 'call', 'frog', 'help'}"
      ]
     },
     "execution_count": 40,
     "metadata": {},
     "output_type": "execute_result"
    }
   ],
   "source": [
    "set_sd = set_a.symmetric_difference(set_b) # اشتراک دو تا مجموعه رو از اجتماع دو تا مجموعه کم کرده\n",
    "set_sd"
   ]
  },
  {
   "cell_type": "code",
   "execution_count": 41,
   "id": "6dd510a1-2384-4add-be58-553ff753b556",
   "metadata": {},
   "outputs": [
    {
     "data": {
      "text/plain": [
       "[1, 5, 7, 8, 'update', 'yeild', 352]"
      ]
     },
     "execution_count": 41,
     "metadata": {},
     "output_type": "execute_result"
    }
   ],
   "source": [
    "new_lst = [1,5,7,8, \"update\", \"yeild\", 352]\n",
    "new_lst"
   ]
  },
  {
   "cell_type": "code",
   "execution_count": 42,
   "id": "37a7be9d-de7e-450e-bc72-58bc7b4b1205",
   "metadata": {},
   "outputs": [
    {
     "data": {
      "text/plain": [
       "{1, 352, 5, 7, 8, 'update', 'yeild'}"
      ]
     },
     "execution_count": 42,
     "metadata": {},
     "output_type": "execute_result"
    }
   ],
   "source": [
    "lst__to__set = set(new_lst)\n",
    "lst__to__set"
   ]
  },
  {
   "cell_type": "code",
   "execution_count": null,
   "id": "ec351950-52a9-44b4-a416-e6d074a85ace",
   "metadata": {},
   "outputs": [],
   "source": []
  }
 ],
 "metadata": {
  "kernelspec": {
   "display_name": "Python 3 (ipykernel)",
   "language": "python",
   "name": "python3"
  },
  "language_info": {
   "codemirror_mode": {
    "name": "ipython",
    "version": 3
   },
   "file_extension": ".py",
   "mimetype": "text/x-python",
   "name": "python",
   "nbconvert_exporter": "python",
   "pygments_lexer": "ipython3",
   "version": "3.11.5"
  }
 },
 "nbformat": 4,
 "nbformat_minor": 5
}
