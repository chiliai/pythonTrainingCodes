{
 "cells": [
  {
   "cell_type": "code",
   "execution_count": 8,
   "id": "f024304c-df7e-4585-b20e-325da1591553",
   "metadata": {},
   "outputs": [],
   "source": [
    "city_name = \"tbz\"\n",
    "lst = [1,2,5,8,7,\"hh\", \"h\"]\n",
    "tpl = (8,7,56,\"f\", 90)\n",
    "dict = {\"country\": \"iran\", \"age\": 57}\n",
    "set = {22, 45, \"test\", \"smile\", \"considered\", 45, 78}\n",
    "id = 27\n"
   ]
  },
  {
   "cell_type": "code",
   "execution_count": 9,
   "id": "6155627f-5b87-4e15-b445-f39bc423ee38",
   "metadata": {},
   "outputs": [
    {
     "data": {
      "text/plain": [
       "3"
      ]
     },
     "execution_count": 9,
     "metadata": {},
     "output_type": "execute_result"
    }
   ],
   "source": [
    "len(city_name)"
   ]
  },
  {
   "cell_type": "code",
   "execution_count": 10,
   "id": "0def2129-b8ca-4863-b38c-8de0186b54f4",
   "metadata": {},
   "outputs": [
    {
     "data": {
      "text/plain": [
       "7"
      ]
     },
     "execution_count": 10,
     "metadata": {},
     "output_type": "execute_result"
    }
   ],
   "source": [
    "len(lst)"
   ]
  },
  {
   "cell_type": "code",
   "execution_count": 11,
   "id": "c667d34f-5ff9-4d32-9d66-6bff00022323",
   "metadata": {},
   "outputs": [
    {
     "data": {
      "text/plain": [
       "6"
      ]
     },
     "execution_count": 11,
     "metadata": {},
     "output_type": "execute_result"
    }
   ],
   "source": [
    "len(set)"
   ]
  },
  {
   "cell_type": "code",
   "execution_count": 12,
   "id": "4128423e-5295-466e-bdf6-2227c9c4e873",
   "metadata": {},
   "outputs": [
    {
     "data": {
      "text/plain": [
       "2"
      ]
     },
     "execution_count": 12,
     "metadata": {},
     "output_type": "execute_result"
    }
   ],
   "source": [
    "len(str(id))"
   ]
  },
  {
   "cell_type": "code",
   "execution_count": null,
   "id": "80f84d03-82c1-4cdb-948e-4c7c45914dde",
   "metadata": {},
   "outputs": [],
   "source": []
  }
 ],
 "metadata": {
  "kernelspec": {
   "display_name": "Python 3 (ipykernel)",
   "language": "python",
   "name": "python3"
  },
  "language_info": {
   "codemirror_mode": {
    "name": "ipython",
    "version": 3
   },
   "file_extension": ".py",
   "mimetype": "text/x-python",
   "name": "python",
   "nbconvert_exporter": "python",
   "pygments_lexer": "ipython3",
   "version": "3.12.4"
  }
 },
 "nbformat": 4,
 "nbformat_minor": 5
}
