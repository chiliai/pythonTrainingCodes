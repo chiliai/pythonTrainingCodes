{
 "cells": [
  {
   "cell_type": "code",
   "execution_count": 2,
   "id": "1267de9e-e1f5-45c0-8cba-702c5feec10d",
   "metadata": {},
   "outputs": [],
   "source": [
    "a, b, c = 5,4,9"
   ]
  },
  {
   "cell_type": "code",
   "execution_count": 4,
   "id": "bec8f55f-de1c-4f45-9658-0983d31fa6db",
   "metadata": {},
   "outputs": [
    {
     "name": "stdout",
     "output_type": "stream",
     "text": [
      "5\n",
      "4\n",
      "9\n"
     ]
    }
   ],
   "source": [
    "print(a)\n",
    "print(b)\n",
    "print(c)"
   ]
  },
  {
   "cell_type": "code",
   "execution_count": 8,
   "id": "6533aa12-6639-46bd-9ed2-a4385e256879",
   "metadata": {},
   "outputs": [
    {
     "name": "stdout",
     "output_type": "stream",
     "text": [
      "78\n",
      "95\n",
      "14\n"
     ]
    }
   ],
   "source": [
    "lst = [78, 95, 14]\n",
    "q,w,e = lst\n",
    "print(q)\n",
    "print(w)\n",
    "print(e)"
   ]
  },
  {
   "cell_type": "code",
   "execution_count": 9,
   "id": "0fe70a54-3708-448f-bb17-cf3043c3ca15",
   "metadata": {},
   "outputs": [
    {
     "ename": "ValueError",
     "evalue": "too many values to unpack (expected 3)",
     "output_type": "error",
     "traceback": [
      "\u001b[1;31m---------------------------------------------------------------------------\u001b[0m",
      "\u001b[1;31mValueError\u001b[0m                                Traceback (most recent call last)",
      "Cell \u001b[1;32mIn[9], line 2\u001b[0m\n\u001b[0;32m      1\u001b[0m lst \u001b[38;5;241m=\u001b[39m [\u001b[38;5;241m78\u001b[39m, \u001b[38;5;241m95\u001b[39m, \u001b[38;5;241m14\u001b[39m, \u001b[38;5;241m65\u001b[39m]\n\u001b[1;32m----> 2\u001b[0m t,y,u \u001b[38;5;241m=\u001b[39m lst\n\u001b[0;32m      3\u001b[0m \u001b[38;5;28mprint\u001b[39m(q)\n\u001b[0;32m      4\u001b[0m \u001b[38;5;28mprint\u001b[39m(w)\n",
      "\u001b[1;31mValueError\u001b[0m: too many values to unpack (expected 3)"
     ]
    }
   ],
   "source": [
    "lst = [78, 95, 14, 65]\n",
    "t,y,u = lst\n",
    "print(q)\n",
    "print(w)\n",
    "print(e)"
   ]
  },
  {
   "cell_type": "code",
   "execution_count": 10,
   "id": "62687134-94c9-431c-a757-5a0907f5d859",
   "metadata": {},
   "outputs": [],
   "source": [
    "x = y = z = 5"
   ]
  },
  {
   "cell_type": "code",
   "execution_count": 12,
   "id": "a3018959-184e-45a6-8a2a-19707ba26d23",
   "metadata": {},
   "outputs": [
    {
     "data": {
      "text/plain": [
       "False"
      ]
     },
     "execution_count": 12,
     "metadata": {},
     "output_type": "execute_result"
    }
   ],
   "source": [
    "k = []\n",
    "j = []\n",
    "\n",
    "k is j"
   ]
  },
  {
   "cell_type": "code",
   "execution_count": 13,
   "id": "cc40e06b-621c-4f6a-8297-7c23235bd788",
   "metadata": {},
   "outputs": [
    {
     "data": {
      "text/plain": [
       "3014905967488"
      ]
     },
     "execution_count": 13,
     "metadata": {},
     "output_type": "execute_result"
    }
   ],
   "source": [
    "id(k)"
   ]
  },
  {
   "cell_type": "code",
   "execution_count": 14,
   "id": "8ce81a58-f746-4f2b-b86d-1342836729c2",
   "metadata": {},
   "outputs": [
    {
     "data": {
      "text/plain": [
       "3014905967424"
      ]
     },
     "execution_count": 14,
     "metadata": {},
     "output_type": "execute_result"
    }
   ],
   "source": [
    "id(j)"
   ]
  },
  {
   "cell_type": "code",
   "execution_count": 16,
   "id": "ad0a6a4d-359c-485a-abd5-08e5ef313089",
   "metadata": {},
   "outputs": [],
   "source": [
    "m = n = []\n",
    "m.append(4)"
   ]
  },
  {
   "cell_type": "code",
   "execution_count": 17,
   "id": "0cc1c95e-99ef-495d-b433-b526dc3e3cdc",
   "metadata": {},
   "outputs": [
    {
     "data": {
      "text/plain": [
       "[4]"
      ]
     },
     "execution_count": 17,
     "metadata": {},
     "output_type": "execute_result"
    }
   ],
   "source": [
    "m"
   ]
  },
  {
   "cell_type": "code",
   "execution_count": 18,
   "id": "92ce937c-5824-43e4-8283-9e15eb51141e",
   "metadata": {},
   "outputs": [
    {
     "data": {
      "text/plain": [
       "[4]"
      ]
     },
     "execution_count": 18,
     "metadata": {},
     "output_type": "execute_result"
    }
   ],
   "source": [
    "n"
   ]
  },
  {
   "cell_type": "code",
   "execution_count": 19,
   "id": "6a1508b3-63bc-492d-baf9-e10bc0fb7bdb",
   "metadata": {},
   "outputs": [],
   "source": [
    "n.append(62)"
   ]
  },
  {
   "cell_type": "code",
   "execution_count": 20,
   "id": "1352fcb7-b8ec-484e-9a61-e4387219fd03",
   "metadata": {},
   "outputs": [
    {
     "data": {
      "text/plain": [
       "[4, 62]"
      ]
     },
     "execution_count": 20,
     "metadata": {},
     "output_type": "execute_result"
    }
   ],
   "source": [
    "m"
   ]
  },
  {
   "cell_type": "code",
   "execution_count": 21,
   "id": "2153f281-c6bf-4bb8-9fd9-6f8b98613c1b",
   "metadata": {},
   "outputs": [
    {
     "data": {
      "text/plain": [
       "[4, 62]"
      ]
     },
     "execution_count": 21,
     "metadata": {},
     "output_type": "execute_result"
    }
   ],
   "source": [
    "n"
   ]
  },
  {
   "cell_type": "code",
   "execution_count": 22,
   "id": "a4763407-eb12-4ed9-bc4b-0fd3642324c5",
   "metadata": {},
   "outputs": [
    {
     "data": {
      "text/plain": [
       "3014905969536"
      ]
     },
     "execution_count": 22,
     "metadata": {},
     "output_type": "execute_result"
    }
   ],
   "source": [
    "id(m)"
   ]
  },
  {
   "cell_type": "code",
   "execution_count": 23,
   "id": "64cde5e7-3f32-4d5d-aed2-cb3fd9b36664",
   "metadata": {},
   "outputs": [
    {
     "data": {
      "text/plain": [
       "3014905969536"
      ]
     },
     "execution_count": 23,
     "metadata": {},
     "output_type": "execute_result"
    }
   ],
   "source": [
    "id(n)"
   ]
  },
  {
   "cell_type": "code",
   "execution_count": 24,
   "id": "160ccf76-be2d-4f09-a27c-4401d0c64e79",
   "metadata": {},
   "outputs": [
    {
     "data": {
      "text/plain": [
       "[4, 62]"
      ]
     },
     "execution_count": 24,
     "metadata": {},
     "output_type": "execute_result"
    }
   ],
   "source": [
    "m"
   ]
  },
  {
   "cell_type": "code",
   "execution_count": 25,
   "id": "b53756dd-af29-4f47-8359-329af09cc4e6",
   "metadata": {},
   "outputs": [],
   "source": [
    "f = m.copy()"
   ]
  },
  {
   "cell_type": "code",
   "execution_count": 26,
   "id": "d52e06a0-f7bc-4a2d-a2b6-ddf683106cd7",
   "metadata": {},
   "outputs": [],
   "source": [
    "f.append(12)"
   ]
  },
  {
   "cell_type": "code",
   "execution_count": 27,
   "id": "ae0e1ca3-58d6-4ee2-8781-27dcfe91adb3",
   "metadata": {},
   "outputs": [
    {
     "data": {
      "text/plain": [
       "[4, 62, 12]"
      ]
     },
     "execution_count": 27,
     "metadata": {},
     "output_type": "execute_result"
    }
   ],
   "source": [
    "f"
   ]
  },
  {
   "cell_type": "code",
   "execution_count": 28,
   "id": "f86799ba-3b6b-4d61-89f0-762f941f58bf",
   "metadata": {},
   "outputs": [
    {
     "data": {
      "text/plain": [
       "[4, 62]"
      ]
     },
     "execution_count": 28,
     "metadata": {},
     "output_type": "execute_result"
    }
   ],
   "source": [
    "m"
   ]
  },
  {
   "cell_type": "code",
   "execution_count": 33,
   "id": "1d42e2b8-40e9-4d2b-8fd2-7ae03e7b2e3a",
   "metadata": {},
   "outputs": [],
   "source": [
    "one, two, three = \"smi\""
   ]
  },
  {
   "cell_type": "code",
   "execution_count": 34,
   "id": "5ae57045-7178-4189-8398-b535d2d3fad5",
   "metadata": {},
   "outputs": [
    {
     "data": {
      "text/plain": [
       "'s'"
      ]
     },
     "execution_count": 34,
     "metadata": {},
     "output_type": "execute_result"
    }
   ],
   "source": [
    "one"
   ]
  },
  {
   "cell_type": "code",
   "execution_count": 35,
   "id": "6543d322-8c88-4943-9e84-e3f51c3c9dee",
   "metadata": {},
   "outputs": [
    {
     "data": {
      "text/plain": [
       "'m'"
      ]
     },
     "execution_count": 35,
     "metadata": {},
     "output_type": "execute_result"
    }
   ],
   "source": [
    "two"
   ]
  },
  {
   "cell_type": "code",
   "execution_count": 36,
   "id": "53f9f6a8-7586-4e31-b596-d0b615a755bb",
   "metadata": {},
   "outputs": [
    {
     "data": {
      "text/plain": [
       "'i'"
      ]
     },
     "execution_count": 36,
     "metadata": {},
     "output_type": "execute_result"
    }
   ],
   "source": [
    "three"
   ]
  },
  {
   "cell_type": "code",
   "execution_count": null,
   "id": "d5e166e0-477d-4197-b70b-52fbbafc8632",
   "metadata": {},
   "outputs": [],
   "source": []
  }
 ],
 "metadata": {
  "kernelspec": {
   "display_name": "Python 3 (ipykernel)",
   "language": "python",
   "name": "python3"
  },
  "language_info": {
   "codemirror_mode": {
    "name": "ipython",
    "version": 3
   },
   "file_extension": ".py",
   "mimetype": "text/x-python",
   "name": "python",
   "nbconvert_exporter": "python",
   "pygments_lexer": "ipython3",
   "version": "3.12.4"
  }
 },
 "nbformat": 4,
 "nbformat_minor": 5
}
