{
 "cells": [
  {
   "cell_type": "code",
   "execution_count": 1,
   "id": "5db789a6-2a70-4602-adc2-85313bdd60f9",
   "metadata": {},
   "outputs": [],
   "source": [
    "# while CONDITION\n",
    "#     COMMANDS"
   ]
  },
  {
   "cell_type": "code",
   "execution_count": 2,
   "id": "28a6f8a4-7382-4287-9724-9731b397f537",
   "metadata": {},
   "outputs": [
    {
     "name": "stdout",
     "output_type": "stream",
     "text": [
      "1\n",
      "2\n",
      "3\n",
      "4\n",
      "5\n"
     ]
    }
   ],
   "source": [
    "i = 1\n",
    "while i <= 5:\n",
    "    print(i)\n",
    "    i += 1"
   ]
  },
  {
   "cell_type": "code",
   "execution_count": 4,
   "id": "ba036e29-5eb7-4fda-9c9c-c2ef055620de",
   "metadata": {},
   "outputs": [
    {
     "name": "stdin",
     "output_type": "stream",
     "text": [
      "for stop while loop: yes / no ? e\n",
      "for stop while loop: yes / no ? d\n",
      "for stop while loop: yes / no ? g\n",
      "for stop while loop: yes / no ? yes\n"
     ]
    },
    {
     "name": "stdout",
     "output_type": "stream",
     "text": [
      "thank you for stoping while loop :)\n"
     ]
    }
   ],
   "source": [
    "while True:\n",
    "    msg = input(\"for stop while loop: yes / no ?\")\n",
    "    if msg == \"yes\":\n",
    "        print(\"thank you for stoping while loop :)\")\n",
    "        break"
   ]
  },
  {
   "cell_type": "code",
   "execution_count": 11,
   "id": "193aeef9-9158-490b-a26d-e44a4b58e6af",
   "metadata": {},
   "outputs": [
    {
     "name": "stdout",
     "output_type": "stream",
     "text": [
      "sum of numbers are 28\n"
     ]
    }
   ],
   "source": [
    "sum = 0\n",
    "i = 1\n",
    "while i <= 7:\n",
    "    sum += i\n",
    "    i += 1\n",
    "else:\n",
    "    print(\"sum of numbers are {}\".format(sum))\n"
   ]
  },
  {
   "cell_type": "code",
   "execution_count": null,
   "id": "3458a230-0edf-4b10-9e62-4c0a1306ff1b",
   "metadata": {},
   "outputs": [],
   "source": []
  }
 ],
 "metadata": {
  "kernelspec": {
   "display_name": "Python 3 (ipykernel)",
   "language": "python",
   "name": "python3"
  },
  "language_info": {
   "codemirror_mode": {
    "name": "ipython",
    "version": 3
   },
   "file_extension": ".py",
   "mimetype": "text/x-python",
   "name": "python",
   "nbconvert_exporter": "python",
   "pygments_lexer": "ipython3",
   "version": "3.11.5"
  }
 },
 "nbformat": 4,
 "nbformat_minor": 5
}
