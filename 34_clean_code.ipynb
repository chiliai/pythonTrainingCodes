{
 "cells": [
  {
   "cell_type": "code",
   "execution_count": 2,
   "id": "ca8c1a1b-e7eb-4f23-a505-b3eee9cbfb4b",
   "metadata": {},
   "outputs": [],
   "source": [
    "# way one\n",
    "#def is_even(num):\n",
    "#    if num % 2 == 0:\n",
    "#        return True\n",
    "#    elif num % 2 == 1:\n",
    "#        return False\n",
    "\n",
    "# way Two\n",
    "#def is_even(num):\n",
    "#    if num % 2 == 0:\n",
    "#        return True\n",
    "#    else:\n",
    "#        return False\n",
    "\n",
    "\n",
    "# way Two\n",
    "def is_even(num):\n",
    "    if num % 2 == 0:\n",
    "        return True\n",
    "    return False"
   ]
  },
  {
   "cell_type": "code",
   "execution_count": 7,
   "id": "66e6ea61-608e-4a39-a0c4-fb663e803340",
   "metadata": {},
   "outputs": [
    {
     "data": {
      "text/plain": [
       "False"
      ]
     },
     "execution_count": 7,
     "metadata": {},
     "output_type": "execute_result"
    }
   ],
   "source": [
    "is_even(21)"
   ]
  },
  {
   "cell_type": "code",
   "execution_count": null,
   "id": "f93bfe62-95bd-4ef8-9f6d-39d3298a634e",
   "metadata": {},
   "outputs": [],
   "source": []
  }
 ],
 "metadata": {
  "kernelspec": {
   "display_name": "Python 3 (ipykernel)",
   "language": "python",
   "name": "python3"
  },
  "language_info": {
   "codemirror_mode": {
    "name": "ipython",
    "version": 3
   },
   "file_extension": ".py",
   "mimetype": "text/x-python",
   "name": "python",
   "nbconvert_exporter": "python",
   "pygments_lexer": "ipython3",
   "version": "3.12.4"
  }
 },
 "nbformat": 4,
 "nbformat_minor": 5
}
